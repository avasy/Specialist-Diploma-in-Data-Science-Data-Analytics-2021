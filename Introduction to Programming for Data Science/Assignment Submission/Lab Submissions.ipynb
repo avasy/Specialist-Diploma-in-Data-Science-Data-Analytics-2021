{
 "cells": [
  {
   "cell_type": "code",
   "execution_count": 1,
   "metadata": {},
   "outputs": [
    {
     "name": "stdout",
     "output_type": "stream",
     "text": [
      "************************************************************\n",
      "Calculate the average of your last 6 months electricity bill\n",
      "************************************************************\n",
      "Enter bill #1: r\n"
     ]
    },
    {
     "ename": "ValueError",
     "evalue": "could not convert string to float: 'r'",
     "output_type": "error",
     "traceback": [
      "\u001b[0;31m---------------------------------------------------------------------------\u001b[0m",
      "\u001b[0;31mValueError\u001b[0m                                Traceback (most recent call last)",
      "\u001b[0;32m<ipython-input-1-2601d975088b>\u001b[0m in \u001b[0;36m<module>\u001b[0;34m\u001b[0m\n\u001b[1;32m      7\u001b[0m \u001b[0mprint\u001b[0m \u001b[0;34m(\u001b[0m\u001b[0;34m'************************************************************'\u001b[0m\u001b[0;34m)\u001b[0m\u001b[0;34m\u001b[0m\u001b[0;34m\u001b[0m\u001b[0m\n\u001b[1;32m      8\u001b[0m \u001b[0;34m\u001b[0m\u001b[0m\n\u001b[0;32m----> 9\u001b[0;31m \u001b[0mb1\u001b[0m \u001b[0;34m=\u001b[0m \u001b[0mfloat\u001b[0m\u001b[0;34m(\u001b[0m\u001b[0minput\u001b[0m\u001b[0;34m(\u001b[0m\u001b[0;34m'Enter bill #1: '\u001b[0m\u001b[0;34m)\u001b[0m\u001b[0;34m)\u001b[0m\u001b[0;34m\u001b[0m\u001b[0;34m\u001b[0m\u001b[0m\n\u001b[0m\u001b[1;32m     10\u001b[0m \u001b[0mb2\u001b[0m \u001b[0;34m=\u001b[0m \u001b[0mfloat\u001b[0m\u001b[0;34m(\u001b[0m\u001b[0minput\u001b[0m\u001b[0;34m(\u001b[0m\u001b[0;34m'Enter bill #2: '\u001b[0m\u001b[0;34m)\u001b[0m\u001b[0;34m)\u001b[0m\u001b[0;34m\u001b[0m\u001b[0;34m\u001b[0m\u001b[0m\n\u001b[1;32m     11\u001b[0m \u001b[0mb3\u001b[0m \u001b[0;34m=\u001b[0m \u001b[0mfloat\u001b[0m\u001b[0;34m(\u001b[0m\u001b[0minput\u001b[0m\u001b[0;34m(\u001b[0m\u001b[0;34m'Enter bill #3: '\u001b[0m\u001b[0;34m)\u001b[0m\u001b[0;34m)\u001b[0m\u001b[0;34m\u001b[0m\u001b[0;34m\u001b[0m\u001b[0m\n",
      "\u001b[0;31mValueError\u001b[0m: could not convert string to float: 'r'"
     ]
    }
   ],
   "source": [
    "'''''''''''''''\n",
    "Week 1 - 22 Oct \n",
    "'''''''''''''''\n",
    "\n",
    "print ('************************************************************')\n",
    "print ('Calculate the average of your last 6 months electricity bill')\n",
    "print ('************************************************************')\n",
    "\n",
    "b1 = float(input('Enter bill #1: '))\n",
    "b2 = float(input('Enter bill #2: '))\n",
    "b3 = float(input('Enter bill #3: '))\n",
    "b4 = float(input('Enter bill #4: '))\n",
    "b5 = float(input('Enter bill #5: '))\n",
    "b6 = float(input('Enter bill #6: '))\n",
    "print('Your electricity bills for the past 6 months are: ${:.2f}, ${:.2f}, ${:.2f}, ${:.2f}, ${:.2f}, ${:.2f}'.format(b1,b2,b3,b4,b5,b6))\n",
    "\n",
    "avg = (b1 + b2 + b3 + b4 + b5 + b6) / 6\n",
    "print('The average of your electricity bill is ${:.2f}'.format(avg))\n"
   ]
  },
  {
   "cell_type": "code",
   "execution_count": null,
   "metadata": {},
   "outputs": [],
   "source": [
    "'''''''''''''''\n",
    "Week 2 - 29 Oct \n",
    "'''''''''''''''\n",
    "\n",
    "print(\"Here's our breakfast menu: \")\n",
    "print(\"1. Muffin ($5.00) 2. Pancake ($3.00) 3. Hashbrown ($1.50)\")\n",
    "c = int(input('Enter your choice of food: '))\n",
    "\n",
    "if c >= 1 and c <= 3: #valid choice\n",
    "    if c == 1: \n",
    "        food = 'Muffin'\n",
    "        price = 5.0\n",
    "    elif c == 2: \n",
    "        food = 'Pancake'\n",
    "        price = 3.0\n",
    "    else: \n",
    "        food = 'Hasbrown'\n",
    "        price = 1.5\n",
    "    print ('{} ${:2f} added!'.format(food, price))\n",
    "    qty = int(input(\"How many {} do you wanna order?\".format(food)))\n",
    "    total = price * qty \n",
    "    print(\"The total cost of {} {} is ${:.2f}\".format(qty, food, total))\n",
    "else: #invalide input \n",
    "    print(\"Invalide choice.. bye bye.. \")"
   ]
  },
  {
   "cell_type": "code",
   "execution_count": null,
   "metadata": {},
   "outputs": [],
   "source": [
    "'''''''''''''''\n",
    "Week 2 - 29 Oct \n",
    "'''''''''''''''\n",
    "strX = input('Enter X: ')\n",
    "strY = input('Enter Y: ')\n",
    "\n",
    "if strX.isnumeric() and strY.isnumeric(): \n",
    "    x = int(strX)\n",
    "    y = int(strY)\n",
    "    if x > 0 and y > 0:\n",
    "        if y > x: \n",
    "            total = 0\n",
    "            for num in range (x, y + 1): \n",
    "                total = total + num\n",
    "            print(total)\n",
    "        else: \n",
    "            print('Y must be bigger than X')\n",
    "            \n",
    "    else: \n",
    "        print(\"One of more of your inputs is not a number\")\n",
    "else: \n",
    "    print('One or more of your inputs is not a number')"
   ]
  },
  {
   "cell_type": "code",
   "execution_count": null,
   "metadata": {
    "scrolled": true
   },
   "outputs": [],
   "source": [
    "'''''''''''''''\n",
    "Week 2 - 5 Nov \n",
    "'''''''''''''''\n",
    "\n",
    "s = 'When Breath Becomes Air,The 91-Storey Treehouse,Harry Potter and the Prisoner of Azkaban'\n",
    "(s1,s2,s3) = s.split(',')\n",
    "\n",
    "s1_len = len(s1)\n",
    "s2_len = len(s2)\n",
    "s3_len = len(s3)\n",
    "\n",
    "print('s1 is {}'.format(s1))\n",
    "print('Length of {} is {}'.format(s1, s1_len))\n",
    "print('2nd and 3rd characters of {} is {}\\n'.format(s1, s1[1:3]))\n",
    "\n",
    "print('s2 is {}'.format(s2))\n",
    "print('Length of {} is {}'.format(s2, s2_len))\n",
    "print('5th and 7th characters of {} is {}\\n'.format(s2, s2[5:8]))\n",
    "\n",
    "print('s3 is {}'.format(s3))\n",
    "print('Length of {} is {}'.format(s3, s3_len))\n",
    "print('Last two characters of {} is {}\\n'.format(s3, s3[-2:]))"
   ]
  },
  {
   "cell_type": "code",
   "execution_count": null,
   "metadata": {},
   "outputs": [],
   "source": [
    "'''''''''''''''\n",
    "Week 2 - 5 Nov \n",
    "'''''''''''''''\n",
    "\n",
    "from random import randint\n",
    "\n",
    "def oddandeven(numbers_list): \n",
    "    even_numbers = []\n",
    "    odd_numbers = []\n",
    "    for i in numbers_list: \n",
    "        if i%2 == 0: \n",
    "            even_numbers.append(i)\n",
    "        else: \n",
    "            odd_numbers.append(i)\n",
    "    return even_numbers, odd_numbers\n",
    "\n",
    "list1 = [randint(1,1000) for x in range (100)]\n",
    "print('Original list:', list1) \n",
    "odd_numbers, even_numbers = oddandeven(list1)\n",
    "print('\\nOdd numbers:', odd_numbers)\n",
    "print('\\nEven numbers:', even_numbers)"
   ]
  },
  {
   "cell_type": "code",
   "execution_count": 2,
   "metadata": {},
   "outputs": [
    {
     "name": "stdout",
     "output_type": "stream",
     "text": [
      "[[ 0  1  2  3  4  5  6  7  8  9]\n",
      " [10 11 12 13 14 15 16 17 18 19]\n",
      " [20 21 22 23 24 25 26 27 28 29]\n",
      " [30 31 32 33 34 35 36 37 38 39]]\n",
      "[ 0  2  4  6  8 10 12 14 16 18 20 22 24 26 28 30 32 34 36 38]\n",
      "[[189 188 147]\n",
      " [179 125 107]\n",
      " [192 126 173]]\n",
      "[189 188 179 192 173]\n"
     ]
    }
   ],
   "source": [
    "'''''''''''''''\n",
    "Week 4 - 12 Nov Section 9: Task 2 - Boolean indexing \n",
    "'''''''''''''''\n",
    "\n",
    "import numpy as np\n",
    "\n",
    "a = np.array((np.arange(0,10),\n",
    "             np.arange(10,20),\n",
    "             np.arange(20,30),\n",
    "             np.arange(30,40))) #4 x 10 array containing 0 - 39 \n",
    "\n",
    "b = np.random.randint(100,200,(3,3)) #3x3 array containing random nos between 100 to 199 \n",
    "#(a)\n",
    "print (a)\n",
    "print(a[a % 2 == 0]) #count even numbers \n",
    "\n",
    "#(b)\n",
    "print(b)\n",
    "print(b[b > 150])\n"
   ]
  },
  {
   "cell_type": "code",
   "execution_count": 10,
   "metadata": {},
   "outputs": [
    {
     "name": "stdout",
     "output_type": "stream",
     "text": [
      "Before Sorting:\n",
      "\n",
      "[[10 16 13  9  1]\n",
      " [19  6 12 19  8]\n",
      " [ 5 13  4  3  1]]\n",
      "\n",
      "After Sorting:\n",
      "[[ 5  6  4  3  1]\n",
      " [10 13 12  9  1]\n",
      " [19 16 13 19  8]]\n"
     ]
    }
   ],
   "source": [
    "import random as randint\n",
    "#(b)\n",
    "arr_1 = np.random.randint(100,200,10)\n",
    "arr_2 = np.random.randint(1,20,(3,5))\n",
    "\n",
    "print(\"Before Sorting:\\n\")\n",
    "print(arr_2)\n",
    "\n",
    "print(\"\\nAfter Sorting:\")\n",
    "arr_2.sort(0)\n",
    "print(arr_2)"
   ]
  },
  {
   "cell_type": "code",
   "execution_count": 11,
   "metadata": {},
   "outputs": [
    {
     "name": "stdout",
     "output_type": "stream",
     "text": [
      "\n",
      "Before Sorting:\n",
      "[[165 146 132 179 132]\n",
      " [102 170 188 133 189]]\n",
      "\n",
      "After sorting (original array):\n",
      "[[165 146 132 179 132]\n",
      " [102 170 188 133 189]]\n",
      "\n",
      "After sorting (copy of sorted array):\n",
      "[[132 132 146 165 179]\n",
      " [102 133 170 188 189]]\n"
     ]
    }
   ],
   "source": [
    "#(c)\n",
    "\n",
    "arr_3 = np.random.randint(100,200,(2,5))\n",
    "print(\"\\nBefore Sorting:\")\n",
    "print(arr_3)\n",
    "\n",
    "x =np.copy(arr_3)\n",
    "x.sort()\n",
    "print(\"\\nAfter sorting (original array):\")\n",
    "print(arr_3)\n",
    "print(\"\\nAfter sorting (copy of sorted array):\")\n",
    "print(x)"
   ]
  },
  {
   "cell_type": "code",
   "execution_count": 15,
   "metadata": {},
   "outputs": [
    {
     "name": "stdout",
     "output_type": "stream",
     "text": [
      "[[ 1.   2.   3. ]\n",
      " [ 4.   5.   6. ]\n",
      " [ 7.   8.   9. ]\n",
      " [ 1.5  1.5  1.5]\n",
      " [ 1.5  1.5  1.5]\n",
      " [ 1.5  1.5  1.5]\n",
      " [ 0.   1.   2. ]\n",
      " [ 3.   4.   5. ]\n",
      " [ 6.   7.   8. ]\n",
      " [ 9.  10.  11. ]\n",
      " [12.  13.  14. ]]\n"
     ]
    }
   ],
   "source": [
    "'''''''''''''''\n",
    "Week 4 - 12 Nov Section 6: Task 1: Concatenate arrays  \n",
    "'''''''''''''''\n",
    "#(a)\n",
    "a = np.array([[ 1,2,3],[ 4,5,6],[7,8,9]])\n",
    "b = np.full((3,3),1.5)\n",
    "c = np.arange(0,15).reshape(5,3)\n",
    "\n",
    "x = np.concatenate((a,b,c))\n",
    "print(x)"
   ]
  },
  {
   "cell_type": "code",
   "execution_count": 14,
   "metadata": {},
   "outputs": [
    {
     "name": "stdout",
     "output_type": "stream",
     "text": [
      "[[  1   2   3   4 170 128 185 186 139 147   0   1   2   3   4   5   6   7\n",
      "    8   9]\n",
      " [  4   5   6   7 182 155 180 196 124 187  10  11  12  13  14  15  16  17\n",
      "   18  19]\n",
      " [  7   8   9  10 177 167 164 137 163 153  20  21  22  23  24  25  26  27\n",
      "   28  29]\n",
      " [ 11  12  13  14 175 132 160 160 141 148  30  31  32  33  34  35  36  37\n",
      "   38  39]]\n"
     ]
    }
   ],
   "source": [
    "#(b)\n",
    "\n",
    "a = np.array([[ 1,2,3,4],[ 4,5,6,7],[7,8,9,10],[11,12,13,14]]) #4x4\n",
    "b = np.random.randint(100,200,(4,6)) #4x6\n",
    "c = np.arange(0,40).reshape(4,10) #4 x 10\n",
    "\n",
    "x = np.concatenate([a,b,c], axis = 1) #4x20\n",
    "print(x)"
   ]
  },
  {
   "cell_type": "code",
   "execution_count": 4,
   "metadata": {},
   "outputs": [
    {
     "name": "stdout",
     "output_type": "stream",
     "text": [
      "Contents of array a\n",
      "[[ 0  1  2  3  4  5  6  7  8  9]\n",
      " [10 11 12 13 14 15 16 17 18 19]\n",
      " [20 21 22 23 24 25 26 27 28 29]\n",
      " [30 31 32 33 34 35 36 37 38 39]]\n",
      "\n",
      " *** Sum of all numners in a ***\n",
      "780\n",
      "\n",
      " *** Mean of all numbers in a ***\n",
      "19.5\n",
      "\n",
      " *** Mean of all numebrs in each row ***\n",
      "Rows 1 sum = 145\n",
      "Rows 2 sum = 145\n",
      "Rows 3 sum = 145\n",
      "Rows 4 sum = 145\n"
     ]
    }
   ],
   "source": [
    "'''''''''''''''\n",
    "Week 5 - 19 Nov Section 11: Task 1 - Sum, Mean\n",
    "'''''''''''''''\n",
    "\n",
    "\n",
    "import numpy as np\n",
    "\n",
    "a = np.array((np.arange(0,10),\n",
    "             np.arange(10,20),\n",
    "             np.arange(20,30),\n",
    "             np.arange(30,40)))\n",
    "print(\"Contents of array a\")\n",
    "print(a)\n",
    "\n",
    "#(a) \n",
    "print(\"\\n*** Sum of all numbers in a ***\")\n",
    "print(a.sum())\n",
    "\n",
    "#(b)\n",
    "print(\"\\n*** Mean of all numbers in a ***\")\n",
    "print(a.mean())\n",
    "\n",
    "#(c)\n",
    "print(\"\\n*** Mean of all numbers in each row ***\")\n",
    "s = a.sum(axis=1)\n",
    "for i in range(len(s)):   #0 to 3 , len(s) = 4\n",
    "    print(\"Row {} sum = {}\".format(i+1, s[i]))\n"
   ]
  },
  {
   "cell_type": "code",
   "execution_count": 5,
   "metadata": {},
   "outputs": [
    {
     "name": "stdout",
     "output_type": "stream",
     "text": [
      "There are altogehter 855 row of data in the file singapore-residents-by-ethnic-group-and-sex-end-june-annual.csv\n",
      "There are 57 years of data captured from 1960 to 2016\n",
      "There are 57 years of data captured from 1960 to 2016\n",
      "Year with the highest total number of residents: 2016\n",
      "Populations count: 3933559\n",
      "Year with the highest total number of residents: 1960\n",
      "Populations count: 1646400\n"
     ]
    }
   ],
   "source": [
    "'''''''''''''''\n",
    "Week 5 - 19 Nov Section 12: Task 1 - Load and save a numpy array \n",
    "'''''''''''''''\n",
    "\n",
    "import numpy as np \n",
    "\n",
    "f = \"singapore-residents-by-ethnic-group-and-sex-end-june-annual.csv\"\n",
    "d = np.loadtxt(f, \n",
    "               delimiter=\",\", \n",
    "               skiprows= 1, \n",
    "               dtype = [('yr','i4'), ('desc','U30'),('value','i4')])\n",
    "\n",
    "print(\"There are altogehter {} row of data in the file {}\".format(len(d), f))\n",
    "\n",
    "no_of_years = len(np.unique(d['yr']))\n",
    "print(\"There are {} years of data captured from {} to {}\".format(no_of_years, np.min(d['yr']), np.max(d['yr'])))\n",
    "print(\"There are {} years of data captured from {} to {}\".format(no_of_years, d['yr'].min(), d['yr'].max()))\n",
    "\n",
    "#filter for 'Total Residents' rows only\n",
    "d = d[d['desc'] == 'Total Residents']\n",
    "\n",
    "highestI = d ['value'].argmax() #index no of the row with the biggest number for column value\n",
    "lowestI = d ['value'].argmin() #index number of the row with the smallest number for column value\n",
    "print(\"Year with the highest total number of residents: {}\".format(d['yr'][highestI]))\n",
    "print(\"Populations count:\",d['value'].max())\n",
    "\n",
    "print(\"Year with the highest total number of residents: {}\".format(d['yr'][lowestI]))\n",
    "print(\"Populations count:\",d['value'].min())"
   ]
  },
  {
   "cell_type": "code",
   "execution_count": 3,
   "metadata": {},
   "outputs": [
    {
     "data": {
      "image/png": "[encoded data removed]",
      "text/plain": [
       "<Figure size 864x432 with 2 Axes>"
      ]
     },
     "metadata": {},
     "output_type": "display_data"
    }
   ],
   "source": [
    "'''''''''''''''\n",
    "Week 6 - 26 Nov Section 6: Task 1 – Analyse gender composition in years 1960 vs 2016\n",
    "'''''''''''''''\n",
    "import numpy as np\n",
    "import matplotlib.pyplot as plt\n",
    "\n",
    "f = 'singapore-residents-by-ethnic-group-and-sex-end-june-annual.csv'\n",
    "d = np.genfromtxt(f, delimiter=\",\", skip_header=1,\n",
    "                  dtype=[('yr', 'i4'),('desc', 'U30'),('value','i4')])\n",
    "x = np.isin(d['desc'], ['Total Male Residents','Total Female Residents'])\n",
    "d = d[x] #filter for Total Male/Female residents rows\n",
    "d1960 = d[d['yr'] == 1960]\n",
    "d2016=  d[d['yr'] == 2016]\n",
    "fig1 = plt.figure(figsize=(12,6))\n",
    "ax1 = fig1.add_subplot(1,2,1)\n",
    "ax1.pie(d1960['value'], labels=d1960['desc'],autopct='%1.1f%%')\n",
    "ax2 = fig1.add_subplot(1,2,2)\n",
    "ax2.pie(d2016['value'], labels=d2016['desc'],autopct='%1.1f%%')\n",
    "plt.show()"
   ]
  },
  {
   "cell_type": "code",
   "execution_count": 4,
   "metadata": {},
   "outputs": [
    {
     "data": {
      "image/png": "[encoded data removed]",
      "text/plain": [
       "<Figure size 864x576 with 1 Axes>"
      ]
     },
     "metadata": {
      "needs_background": "light"
     },
     "output_type": "display_data"
    }
   ],
   "source": [
    "'''''''''''''''\n",
    "Week 6 - 26 Nov Section 5: Task 1 – Analyse live births  \n",
    "'''''''''''''''\n",
    "f = 'live-births.csv'\n",
    "d = np.genfromtxt(f, delimiter=\",\", skip_header=1,\n",
    "                  dtype=[('yr', 'i4'),('desc', 'U30'),('value','i4')])\n",
    "d = d[d['yr'] >= 2006]\n",
    "d = d[d['yr'] <= 2016]\n",
    "d = d[d['desc'] == \"Total Live-Births\"]\n",
    "loc = np.arange(len(d))  #np.arange(0,11) -> 0 to 10\n",
    "plt.figure(figsize=(12,8))\n",
    "plt.xticks(loc, d['yr'], rotation=90)\n",
    "plt.bar(loc, d['value'], color=\"red\")\n",
    "plt.show()"
   ]
  },
  {
   "cell_type": "code",
   "execution_count": 3,
   "metadata": {},
   "outputs": [
    {
     "name": "stdout",
     "output_type": "stream",
     "text": [
      "** Data in 1980 Column **\n",
      "Variables\n",
      "Total                  1651500\n",
      "Single                  674100\n",
      "Married                 864600\n",
      "Widowed                  97100\n",
      "Divorced/ Separated      15800\n",
      "Males                   833500\n",
      "Single                  375800\n",
      "Married                 435900\n",
      "Widowed                  16000\n",
      "Divorced/ Separated       5700\n",
      "Females                 818000\n",
      "Single                  298300\n",
      "Married                 428700\n",
      "Widowed                  81100\n",
      "Divorced/ Separated      10100\n",
      "Name: 1980, dtype: int64\n",
      "Number of rows more than 500k is 5\n",
      "Number of rows less than 500k is 10\n"
     ]
    }
   ],
   "source": [
    "'''''''''''''''\n",
    "Week 8 - 14 Jan Section 6A: Task 3\n",
    "'''''''''''''''\n",
    "import pandas as pd\n",
    "mydf = pd.read_excel(\"singstats_maritalstatus.xlsx\", index_col='Variables')\n",
    "print(\"** Data in 1980 Column **\")\n",
    "print(mydf['1980'])\n",
    "x = len(mydf[mydf['1980'] > 500000])\n",
    "y = len(mydf) - x\n",
    "print(\"Number of rows more than 500k is\", x)\n",
    "print(\"Number of rows less than 500k is\", y)"
   ]
  },
  {
   "cell_type": "code",
   "execution_count": 4,
   "metadata": {},
   "outputs": [
    {
     "name": "stdout",
     "output_type": "stream",
     "text": [
      "                        2010     2011     2012     2013     2014     2015  \\\n",
      "Variables                                                                   \n",
      "Total                3105700  3148700  3183000  3205900  3259800  3275900   \n",
      "Single               1000500  1012000  1022600  1029300  1048100  1034500   \n",
      "Married              1844600  1875900  1899000  1911500  1940100  1945600   \n",
      "Widowed               157600   157700   152300   158000   161100   172100   \n",
      "Divorced/ Separated   103100   103000   109200   107200   110600   123600   \n",
      "Males                1517400  1534200  1550000  1560900  1583900  1589600   \n",
      "Single                527100   529600   534700   535100   538500   533200   \n",
      "Married               928400   944300   952200   963100   980800   984700   \n",
      "Widowed                24900    25700    25700    25700    27300    28900   \n",
      "Divorced/ Separated    37100    34600    37500    37000    37300    42700   \n",
      "Females              1588300  1614500  1633000  1645000  1675900  1686300   \n",
      "Single                473400   482400   487900   494100   509600   501300   \n",
      "Married               916300   931600   946800   948400   959200   960900   \n",
      "Widowed               132700   132000   126700   132300   133700   143200   \n",
      "Divorced/ Separated    66000    68400    71700    70200    73300    80900   \n",
      "\n",
      "                        2016  \n",
      "Variables                     \n",
      "Total                3318500  \n",
      "Single               1049200  \n",
      "Married              1974700  \n",
      "Widowed               174600  \n",
      "Divorced/ Separated   119900  \n",
      "Males                1607500  \n",
      "Single                539700  \n",
      "Married               993900  \n",
      "Widowed                29900  \n",
      "Divorced/ Separated    44100  \n",
      "Females              1711000  \n",
      "Single                509600  \n",
      "Married               980800  \n",
      "Widowed               144700  \n",
      "Divorced/ Separated    75900  \n"
     ]
    }
   ],
   "source": [
    "#Section 6A, Task-4\n",
    "import pandas as pd\n",
    "mydf = pd.read_excel(\"singstats_maritalstatus.xlsx\", index_col='Variables')\n",
    "\n",
    "pattern = '^201' # Match strings starting with 201\n",
    "df_2010_and_after = mydf.filter(regex=pattern)\n",
    "print(df_2010_and_after)\n"
   ]
  },
  {
   "cell_type": "code",
   "execution_count": 7,
   "metadata": {},
   "outputs": [
    {
     "data": {
      "text/plain": [
       "<matplotlib.axes._subplots.AxesSubplot at 0x7f80ac9b7860>"
      ]
     },
     "execution_count": 7,
     "metadata": {},
     "output_type": "execute_result"
    },
    {
     "data": {
      "image/png": "[encoded data removed]",
      "text/plain": [
       "<Figure size 432x288 with 1 Axes>"
      ]
     },
     "metadata": {
      "needs_background": "light"
     },
     "output_type": "display_data"
    }
   ],
   "source": [
    "#Section 6B, Task-3\n",
    "import pandas as pd\n",
    "df = pd.read_csv(\"rainfall-monthly-total.csv\", index_col='month')\n",
    "\n",
    "#filter for data with > 300mm of rainfalls\n",
    "df = df[df['total_rainfall'] > 300]\n",
    "df = df.sort_values(by='total_rainfall')\n",
    "df = df[-12:] #get the last 12 rows\n",
    "df['total_rainfall'].plot(kind='bar')"
   ]
  },
  {
   "cell_type": "code",
   "execution_count": 8,
   "metadata": {},
   "outputs": [
    {
     "name": "stdout",
     "output_type": "stream",
     "text": [
      "** First 10 rows of original dataset **\n",
      "                        1980  1981  1982     1983     1984     1985     1986  \\\n",
      "Variables                                                                      \n",
      "Total                1651500   NaN   NaN  1791900  1829000  1866700  1906600   \n",
      "Single                674100   NaN   NaN   728000   714300   726600   736500   \n",
      "Married               864600   NaN   NaN   951200  1005100  1020100  1039700   \n",
      "Widowed                97100   NaN   NaN   101700    92800    99200   108200   \n",
      "Divorced/ Separated    15800   NaN   NaN    11000    16700    20800    22300   \n",
      "Males                 833500   NaN   NaN   901700   912200   929800   948000   \n",
      "Single                375800   NaN   NaN   404700   393400   400100   408100   \n",
      "Married               435900   NaN   NaN   476300   499600   506500   517100   \n",
      "Widowed                16000   NaN   NaN    16600    13600    16200    15500   \n",
      "Divorced/ Separated     5700   NaN   NaN     4100     5600     7000     7300   \n",
      "\n",
      "                        1987     1988     1989  ...     2007     2008  \\\n",
      "Variables                                       ...                     \n",
      "Total                1947600  1990000  2032400  ...  2944600  2938800   \n",
      "Single                735200   745700   752800  ...   918400   918700   \n",
      "Married              1083300  1112200  1137800  ...  1787100  1783700   \n",
      "Widowed               106900   108100   116200  ...   155600   146900   \n",
      "Divorced/ Separated    22200    24100    25700  ...    83600    89500   \n",
      "Males                 974100   994400  1007900  ...  1438300  1437200   \n",
      "Single                410800   416100   418000  ...   487500   488900   \n",
      "Married               539600   553300   563800  ...   894700   896300   \n",
      "Widowed                16100    17000    17900  ...    26400    22700   \n",
      "Divorced/ Separated     7700     8000     8200  ...    29700    29300   \n",
      "\n",
      "                        2009     2010     2011     2012     2013     2014  \\\n",
      "Variables                                                                   \n",
      "Total                3034800  3105700  3148700  3183000  3205900  3259800   \n",
      "Single                957600  1000500  1012000  1022600  1029300  1048100   \n",
      "Married              1831300  1844600  1875900  1899000  1911500  1940100   \n",
      "Widowed               152700   157600   157700   152300   158000   161100   \n",
      "Divorced/ Separated    93200   103100   103000   109200   107200   110600   \n",
      "Males                1477500  1517400  1534200  1550000  1560900  1583900   \n",
      "Single                505100   527100   529600   534700   535100   538500   \n",
      "Married               913300   928400   944300   952200   963100   980800   \n",
      "Widowed                26600    24900    25700    25700    25700    27300   \n",
      "Divorced/ Separated    32400    37100    34600    37500    37000    37300   \n",
      "\n",
      "                        2015     2016  \n",
      "Variables                              \n",
      "Total                3275900  3318500  \n",
      "Single               1034500  1049200  \n",
      "Married              1945600  1974700  \n",
      "Widowed               172100   174600  \n",
      "Divorced/ Separated   123600   119900  \n",
      "Males                1589600  1607500  \n",
      "Single                533200   539700  \n",
      "Married               984700   993900  \n",
      "Widowed                28900    29900  \n",
      "Divorced/ Separated    42700    44100  \n",
      "\n",
      "[10 rows x 37 columns]\n",
      "** Remaining dataset after dropping missing columns **\n",
      "                        1980     1983     1984     1985     1986     1987  \\\n",
      "Variables                                                                   \n",
      "Total                1651500  1791900  1829000  1866700  1906600  1947600   \n",
      "Single                674100   728000   714300   726600   736500   735200   \n",
      "Married               864600   951200  1005100  1020100  1039700  1083300   \n",
      "Widowed                97100   101700    92800    99200   108200   106900   \n",
      "Divorced/ Separated    15800    11000    16700    20800    22300    22200   \n",
      "Males                 833500   901700   912200   929800   948000   974100   \n",
      "Single                375800   404700   393400   400100   408100   410800   \n",
      "Married               435900   476300   499600   506500   517100   539600   \n",
      "Widowed                16000    16600    13600    16200    15500    16100   \n",
      "Divorced/ Separated     5700     4100     5600     7000     7300     7700   \n",
      "Females               818000   890200   916800   936900   958600   973400   \n",
      "Single                298300   323400   321000   326500   328400   324400   \n",
      "Married               428700   474800   505500   513700   522600   543700   \n",
      "Widowed                81100    85100    79200    83000    92700    90800   \n",
      "Divorced/ Separated    10100     6900    11100    13700    15000    14600   \n",
      "\n",
      "                        1988     1989     1990     1991  ...     2007  \\\n",
      "Variables                                                ...            \n",
      "Total                1990000  2032400  2078800  2153700  ...  2944600   \n",
      "Single                745700   752800   747200   760100  ...   918400   \n",
      "Married              1112200  1137800  1176400  1240000  ...  1787100   \n",
      "Widowed               108100   116200   127300   121300  ...   155600   \n",
      "Divorced/ Separated    24100    25700    27900    32300  ...    83600   \n",
      "Males                 994400  1007900  1045600  1077800  ...  1438300   \n",
      "Single                416100   418000   422600   424900  ...   487500   \n",
      "Married               553300   563800   586700   621600  ...   894700   \n",
      "Widowed                17000    17900    26100    20100  ...    26400   \n",
      "Divorced/ Separated     8000     8200    10200    11100  ...    29700   \n",
      "Females               995600  1024500  1033200  1076000  ...  1506400   \n",
      "Single                329600   334800   324600   335200  ...   430900   \n",
      "Married               558900   573900   589700   618400  ...   892400   \n",
      "Widowed                91100    98300   101300   101200  ...   129100   \n",
      "Divorced/ Separated    16000    17500    17700    21100  ...    53900   \n",
      "\n",
      "                        2008     2009     2010     2011     2012     2013  \\\n",
      "Variables                                                                   \n",
      "Total                2938800  3034800  3105700  3148700  3183000  3205900   \n",
      "Single                918700   957600  1000500  1012000  1022600  1029300   \n",
      "Married              1783700  1831300  1844600  1875900  1899000  1911500   \n",
      "Widowed               146900   152700   157600   157700   152300   158000   \n",
      "Divorced/ Separated    89500    93200   103100   103000   109200   107200   \n",
      "Males                1437200  1477500  1517400  1534200  1550000  1560900   \n",
      "Single                488900   505100   527100   529600   534700   535100   \n",
      "Married               896300   913300   928400   944300   952200   963100   \n",
      "Widowed                22700    26600    24900    25700    25700    25700   \n",
      "Divorced/ Separated    29300    32400    37100    34600    37500    37000   \n",
      "Females              1501600  1557300  1588300  1614500  1633000  1645000   \n",
      "Single                429800   452400   473400   482400   487900   494100   \n",
      "Married               887400   918000   916300   931600   946800   948400   \n",
      "Widowed               124200   126000   132700   132000   126700   132300   \n",
      "Divorced/ Separated    60100    60800    66000    68400    71700    70200   \n",
      "\n",
      "                        2014     2015     2016  \n",
      "Variables                                       \n",
      "Total                3259800  3275900  3318500  \n",
      "Single               1048100  1034500  1049200  \n",
      "Married              1940100  1945600  1974700  \n",
      "Widowed               161100   172100   174600  \n",
      "Divorced/ Separated   110600   123600   119900  \n",
      "Males                1583900  1589600  1607500  \n",
      "Single                538500   533200   539700  \n",
      "Married               980800   984700   993900  \n",
      "Widowed                27300    28900    29900  \n",
      "Divorced/ Separated    37300    42700    44100  \n",
      "Females              1675900  1686300  1711000  \n",
      "Single                509600   501300   509600  \n",
      "Married               959200   960900   980800  \n",
      "Widowed               133700   143200   144700  \n",
      "Divorced/ Separated    73300    80900    75900  \n",
      "\n",
      "[15 rows x 35 columns]\n"
     ]
    }
   ],
   "source": [
    "#Section-8B Task-1\n",
    "import pandas as pd\n",
    "\n",
    "df = pd.read_excel(\"singstats_maritalstatus.xlsx\", index_col='Variables' ,\n",
    "                   na_values=['-','NA', 'N/A'])\n",
    "print(\"** First 10 rows of original dataset **\")\n",
    "print(df.head(10))\n",
    "df = df.dropna(axis=1)\n",
    "print(\"** Remaining dataset after dropping missing columns **\")\n",
    "print(df)"
   ]
  },
  {
   "cell_type": "code",
   "execution_count": null,
   "metadata": {},
   "outputs": [],
   "source": []
  }
 ],
 "metadata": {
  "kernelspec": {
   "display_name": "Python 3",
   "language": "python",
   "name": "python3"
  },
  "language_info": {
   "codemirror_mode": {
    "name": "ipython",
    "version": 3
   },
   "file_extension": ".py",
   "mimetype": "text/x-python",
   "name": "python",
   "nbconvert_exporter": "python",
   "pygments_lexer": "ipython3",
   "version": "3.7.3"
  }
 },
 "nbformat": 4,
 "nbformat_minor": 2
}
