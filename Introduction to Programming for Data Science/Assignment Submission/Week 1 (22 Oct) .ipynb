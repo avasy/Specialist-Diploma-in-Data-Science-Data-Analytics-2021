{
 "cells": [
  {
   "cell_type": "code",
   "execution_count": 1,
   "metadata": {},
   "outputs": [
    {
     "name": "stdout",
     "output_type": "stream",
     "text": [
      "Hello World\n"
     ]
    }
   ],
   "source": [
    "#Output\n",
    "\n",
    "print ('Hello World')"
   ]
  },
  {
   "cell_type": "code",
   "execution_count": 2,
   "metadata": {},
   "outputs": [
    {
     "name": "stdout",
     "output_type": "stream",
     "text": [
      "4.5\n"
     ]
    }
   ],
   "source": [
    "print (2+3*5/6)"
   ]
  },
  {
   "cell_type": "code",
   "execution_count": 3,
   "metadata": {},
   "outputs": [
    {
     "name": "stdout",
     "output_type": "stream",
     "text": [
      "bye bye\n"
     ]
    }
   ],
   "source": [
    "print ('bye bye')"
   ]
  },
  {
   "cell_type": "code",
   "execution_count": 4,
   "metadata": {},
   "outputs": [
    {
     "name": "stdout",
     "output_type": "stream",
     "text": [
      "8\n"
     ]
    }
   ],
   "source": [
    "print (2**3)"
   ]
  },
  {
   "cell_type": "code",
   "execution_count": 5,
   "metadata": {},
   "outputs": [
    {
     "name": "stdout",
     "output_type": "stream",
     "text": [
      "25 hello\n"
     ]
    }
   ],
   "source": [
    "print(25, 'hello')"
   ]
  },
  {
   "cell_type": "code",
   "execution_count": 6,
   "metadata": {},
   "outputs": [
    {
     "name": "stdout",
     "output_type": "stream",
     "text": [
      "enter your name: ava\n"
     ]
    },
    {
     "data": {
      "text/plain": [
       "'ava'"
      ]
     },
     "execution_count": 6,
     "metadata": {},
     "output_type": "execute_result"
    }
   ],
   "source": [
    "#Input \n",
    "\n",
    "#This does not assign a variable, hence it will be going no where \n",
    "input(\"enter your name: \")"
   ]
  },
  {
   "cell_type": "code",
   "execution_count": 7,
   "metadata": {},
   "outputs": [
    {
     "name": "stdout",
     "output_type": "stream",
     "text": [
      "enter your name: ava\n"
     ]
    }
   ],
   "source": [
    "name = input ('enter your name: ')"
   ]
  },
  {
   "cell_type": "code",
   "execution_count": 8,
   "metadata": {},
   "outputs": [
    {
     "name": "stdout",
     "output_type": "stream",
     "text": [
      "You name is  ava\n"
     ]
    }
   ],
   "source": [
    "print ('You name is ', name)"
   ]
  },
  {
   "cell_type": "code",
   "execution_count": 9,
   "metadata": {},
   "outputs": [
    {
     "name": "stdout",
     "output_type": "stream",
     "text": [
      "enter your name: ava\n",
      "enter your year of birth: 1000\n",
      "ava you are 1020 years old this year\n"
     ]
    }
   ],
   "source": [
    "name = input('enter your name: ')\n",
    "yob = int(input('enter your year of birth: '))\n",
    "age = 2020 - yob \n",
    "print (name, 'you are', age, 'years old this year')"
   ]
  },
  {
   "cell_type": "code",
   "execution_count": 10,
   "metadata": {},
   "outputs": [],
   "source": [
    "x=5"
   ]
  },
  {
   "cell_type": "code",
   "execution_count": 11,
   "metadata": {},
   "outputs": [],
   "source": [
    "x=20"
   ]
  },
  {
   "cell_type": "code",
   "execution_count": 12,
   "metadata": {},
   "outputs": [
    {
     "data": {
      "text/plain": [
       "20"
      ]
     },
     "execution_count": 12,
     "metadata": {},
     "output_type": "execute_result"
    }
   ],
   "source": [
    "x"
   ]
  },
  {
   "cell_type": "code",
   "execution_count": 13,
   "metadata": {},
   "outputs": [],
   "source": [
    "y = 2"
   ]
  },
  {
   "cell_type": "code",
   "execution_count": 14,
   "metadata": {},
   "outputs": [],
   "source": [
    "y = y +5"
   ]
  },
  {
   "cell_type": "code",
   "execution_count": 15,
   "metadata": {},
   "outputs": [
    {
     "data": {
      "text/plain": [
       "7"
      ]
     },
     "execution_count": 15,
     "metadata": {},
     "output_type": "execute_result"
    }
   ],
   "source": [
    "y"
   ]
  },
  {
   "cell_type": "code",
   "execution_count": 16,
   "metadata": {},
   "outputs": [
    {
     "data": {
      "text/plain": [
       "5.0"
      ]
     },
     "execution_count": 16,
     "metadata": {},
     "output_type": "execute_result"
    }
   ],
   "source": [
    "float('5')"
   ]
  },
  {
   "cell_type": "code",
   "execution_count": 17,
   "metadata": {},
   "outputs": [
    {
     "name": "stdout",
     "output_type": "stream",
     "text": [
      "abc hello def 2 .\n",
      "abc 2 def hello .\n",
      "abc 2.00 def hello .\n"
     ]
    }
   ],
   "source": [
    "x = 2 \n",
    "y = 'hello'\n",
    "\n",
    "\n",
    "#:.2f is formatting the numbers to 2 decimal places \n",
    "print ('abc {} def {} .' .format(y,x))\n",
    "print ('abc {} def {} .' .format(x,y))\n",
    "print ('abc {:.2f} def {} .' .format(x,y))"
   ]
  },
  {
   "cell_type": "code",
   "execution_count": 18,
   "metadata": {},
   "outputs": [
    {
     "name": "stdout",
     "output_type": "stream",
     "text": [
      "you are 1020 years old\n"
     ]
    }
   ],
   "source": [
    "print('you are {} years old'.format(age))"
   ]
  },
  {
   "cell_type": "code",
   "execution_count": 19,
   "metadata": {},
   "outputs": [
    {
     "name": "stdout",
     "output_type": "stream",
     "text": [
      "ava, you are 1020 years old this year\n"
     ]
    }
   ],
   "source": [
    "print ('{}, you are {} years old this year'.format(name, age))"
   ]
  },
  {
   "cell_type": "code",
   "execution_count": 20,
   "metadata": {},
   "outputs": [
    {
     "name": "stdout",
     "output_type": "stream",
     "text": [
      "Enter location: 5\n",
      "Enter breadth: 1\n",
      "Area: 6\n",
      "Area: 6\n",
      "Area: 6.0000\n"
     ]
    }
   ],
   "source": [
    "length = int(input(\"Enter location: \"))\n",
    "breadth = int(input('Enter breadth: '))\n",
    "area = length + breadth\n",
    "\n",
    "print('Area: ' + str(area))\n",
    "print('Area:', area)\n",
    "print('Area: {:.4f}'.format(area))"
   ]
  },
  {
   "cell_type": "code",
   "execution_count": 21,
   "metadata": {},
   "outputs": [
    {
     "data": {
      "text/plain": [
       "5.0"
      ]
     },
     "execution_count": 21,
     "metadata": {},
     "output_type": "execute_result"
    }
   ],
   "source": [
    "import math\n",
    "math.sqrt(25)"
   ]
  },
  {
   "cell_type": "code",
   "execution_count": 6,
   "metadata": {},
   "outputs": [
    {
     "name": "stdout",
     "output_type": "stream",
     "text": [
      "************************************************************\n",
      "Calculate the average of your last 6 months electricity bill\n",
      "************************************************************\n",
      "Enter bill #1: 156.79\n",
      "Enter bill #2: 138.67\n",
      "Enter bill #3: 120.34\n",
      "Enter bill #4: 179.33\n",
      "Enter bill #5: 162.10\n",
      "Enter bill #6: 142.89\n",
      "Your electricity bills for the past 6 months are: $156.79, $138.67, $120.34, $179.33, $162.10, $142.89\n",
      "The average of your electricity bill is $150.02\n"
     ]
    }
   ],
   "source": [
    "#Submission Lab Text# \n",
    "\n",
    "print ('************************************************************')\n",
    "print ('Calculate the average of your last 6 months electricity bill')\n",
    "print ('************************************************************')\n",
    "\n",
    "b1 = float(input('Enter bill #1: '))\n",
    "b2 = float(input('Enter bill #2: '))\n",
    "b3 = float(input('Enter bill #3: '))\n",
    "b4 = float(input('Enter bill #4: '))\n",
    "b5 = float(input('Enter bill #5: '))\n",
    "b6 = float(input('Enter bill #6: '))\n",
    "print('Your electricity bills for the past 6 months are: ${:.2f}, ${:.2f}, ${:.2f}, ${:.2f}, ${:.2f}, ${:.2f}'.format(b1,b2,b3,b4,b5,b6))\n",
    "\n",
    "avg = (b1 + b2 + b3 + b4 + b5 + b6) / 6\n",
    "print('The average of your electricity bill is ${:.2f}'.format(avg))"
   ]
  },
  {
   "cell_type": "code",
   "execution_count": null,
   "metadata": {},
   "outputs": [],
   "source": []
  }
 ],
 "metadata": {
  "kernelspec": {
   "display_name": "Python 3",
   "language": "python",
   "name": "python3"
  },
  "language_info": {
   "codemirror_mode": {
    "name": "ipython",
    "version": 3
   },
   "file_extension": ".py",
   "mimetype": "text/x-python",
   "name": "python",
   "nbconvert_exporter": "python",
   "pygments_lexer": "ipython3",
   "version": "3.7.3"
  }
 },
 "nbformat": 4,
 "nbformat_minor": 2
}
