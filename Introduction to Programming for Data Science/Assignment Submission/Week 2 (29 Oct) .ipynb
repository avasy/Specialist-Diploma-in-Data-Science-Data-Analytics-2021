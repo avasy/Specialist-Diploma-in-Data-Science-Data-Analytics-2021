{
 "cells": [
  {
   "cell_type": "code",
   "execution_count": null,
   "metadata": {},
   "outputs": [],
   "source": [
    "#isnumeric() tests a string cariable to see if there's a whole number inside \n",
    "\n",
    "s ='1.5'\n",
    "print (s.isnumeric())"
   ]
  },
  {
   "cell_type": "code",
   "execution_count": null,
   "metadata": {},
   "outputs": [],
   "source": [
    "s ='1'\n",
    "print (s.isnumeric())"
   ]
  },
  {
   "cell_type": "code",
   "execution_count": null,
   "metadata": {},
   "outputs": [],
   "source": [
    "b = 'hello'\n",
    "b.upper()"
   ]
  },
  {
   "cell_type": "code",
   "execution_count": null,
   "metadata": {},
   "outputs": [],
   "source": [
    "b.lower()"
   ]
  },
  {
   "cell_type": "code",
   "execution_count": null,
   "metadata": {},
   "outputs": [],
   "source": [
    "#look for a substring in a string \n",
    "\n",
    "a= 'hello how are you?'\n",
    "\n",
    "#prints the index of where 'how' starts, in the 6 position. \n",
    "print(a.find('how')) \n",
    "print(s.find)"
   ]
  },
  {
   "cell_type": "code",
   "execution_count": null,
   "metadata": {},
   "outputs": [],
   "source": [
    "8/3"
   ]
  },
  {
   "cell_type": "code",
   "execution_count": null,
   "metadata": {},
   "outputs": [],
   "source": [
    "8//3"
   ]
  },
  {
   "cell_type": "code",
   "execution_count": null,
   "metadata": {},
   "outputs": [],
   "source": [
    "8%3"
   ]
  },
  {
   "cell_type": "code",
   "execution_count": null,
   "metadata": {},
   "outputs": [],
   "source": [
    "8!= 3"
   ]
  },
  {
   "cell_type": "code",
   "execution_count": null,
   "metadata": {},
   "outputs": [],
   "source": [
    "8 == 3"
   ]
  },
  {
   "cell_type": "code",
   "execution_count": null,
   "metadata": {},
   "outputs": [],
   "source": [
    "# T and T = T, T and F = F, F and F = F\n",
    "8 > 3 and 2 < 4"
   ]
  },
  {
   "cell_type": "code",
   "execution_count": null,
   "metadata": {},
   "outputs": [],
   "source": [
    "x = 2 \n",
    "if x > 5: \n",
    "    print(x) \n",
    "else: \n",
    "    print('no')"
   ]
  },
  {
   "cell_type": "code",
   "execution_count": null,
   "metadata": {},
   "outputs": [],
   "source": [
    "a = 1\n",
    "b = 2\n",
    "c = 3\n",
    "\n",
    "if a==10: \n",
    "    print (a)\n",
    "elif b == 20: \n",
    "    print (b)\n",
    "else:\n",
    "    print (c)"
   ]
  },
  {
   "cell_type": "code",
   "execution_count": null,
   "metadata": {},
   "outputs": [],
   "source": [
    "s = input('Entre your year of birth: ')\n",
    "YOB = int(s) #convert from strhign to int \n",
    "age = 2020 - YOB \n",
    "print('You are {} year old this year'.format(age))"
   ]
  },
  {
   "cell_type": "code",
   "execution_count": null,
   "metadata": {},
   "outputs": [],
   "source": [
    "#Use isnumeric to triple check the values and avoid having errors \n",
    "s = input('Entre your year of birth: ')\n",
    "if s.isnumeric(): \n",
    "    YOB = int(s) #convert from strhign to int \n",
    "    age = 2020 - YOB \n",
    "    print('You are {} year old this year'.format(age))\n",
    "else: \n",
    "    print('Please enter whole numbers')"
   ]
  },
  {
   "cell_type": "code",
   "execution_count": null,
   "metadata": {},
   "outputs": [],
   "source": [
    "#Nested if elif elif else \n",
    "\n",
    "x = 2\n",
    "if x == 1: \n",
    "    print (\"A\")\n",
    "elif x == 2: \n",
    "    print (\"B\")\n",
    "elif x == 3: \n",
    "    print (\"C\")\n",
    "else: \n",
    "    print (\"D\")\n",
    "    "
   ]
  },
  {
   "cell_type": "code",
   "execution_count": null,
   "metadata": {},
   "outputs": [],
   "source": [
    "\n",
    "x = 2\n",
    "if x == 1: \n",
    "    print (\"A\")\n",
    "elif x > 2: \n",
    "    print (\"B\")\n",
    "elif x == 3: \n",
    "    print (\"C\")\n",
    "else: \n",
    "    print (\"D\")\n",
    "    "
   ]
  },
  {
   "cell_type": "code",
   "execution_count": null,
   "metadata": {},
   "outputs": [],
   "source": [
    "print(\"Choose your drink: \\n 1. Coke \\t2. Sprite \\t3. 100Plus.\")\n",
    "c = int(input('Enter your choice: '))\n",
    "if c == 1: \n",
    "    print (\"Coke is selected\")\n",
    "elif c == 2: \n",
    "    print (\"Sprite is selected\")\n",
    "elif c == 3: \n",
    "    print ('100Plus is selected')\n",
    "else: \n",
    "    print(\"No drinks selected\")"
   ]
  },
  {
   "cell_type": "code",
   "execution_count": null,
   "metadata": {},
   "outputs": [],
   "source": [
    "x,y = 2,3\n",
    "\n",
    "if x + y >=5:\n",
    "    if(x-y>0):\n",
    "        print('A')\n",
    "    else:\n",
    "        print('B')\n",
    "    print('C')\n",
    "else:\n",
    "    print('D')\n",
    "    "
   ]
  },
  {
   "cell_type": "code",
   "execution_count": 11,
   "metadata": {},
   "outputs": [
    {
     "name": "stdout",
     "output_type": "stream",
     "text": [
      "Here's our breakfast menu: \n",
      "1. Muffin ($5.00) 2. Pancake ($3.00) 3. Hashbrown ($1.50)\n",
      "Enter your choice of food: 3\n",
      "Hasbrown $1.500000 added!\n",
      "How many Hasbrown do you wanna order?2\n",
      "The total cost of 2 Hasbrown is $3.00\n"
     ]
    }
   ],
   "source": [
    "#practical task 2\n",
    "\n",
    "print(\"Here's our breakfast menu: \")\n",
    "print(\"1. Muffin ($5.00) 2. Pancake ($3.00) 3. Hashbrown ($1.50)\")\n",
    "c = int(input('Enter your choice of food: '))\n",
    "\n",
    "if c >= 1 and c <= 3: #valid choice\n",
    "    if c == 1: \n",
    "        food = 'Muffin'\n",
    "        price = 5.0\n",
    "    elif c == 2: \n",
    "        food = 'Pancake'\n",
    "        price = 3.0\n",
    "    else: \n",
    "        food = 'Hasbrown'\n",
    "        price = 1.5\n",
    "    print ('{} ${:2f} added!'.format(food, price))\n",
    "    qty = int(input(\"How many {} do you wanna order?\".format(food)))\n",
    "    total = price * qty \n",
    "    print(\"The total cost of {} {} is ${:.2f}\".format(qty, food, total))\n",
    "else: #invalide input \n",
    "    print(\"Invalide choice.. bye bye.. \")"
   ]
  },
  {
   "cell_type": "code",
   "execution_count": null,
   "metadata": {},
   "outputs": [],
   "source": [
    "#for loop while loop\n",
    "\n",
    "for i in range(100): \n",
    "    print ('hello', end = \" \")"
   ]
  },
  {
   "cell_type": "code",
   "execution_count": null,
   "metadata": {},
   "outputs": [],
   "source": [
    "x = 5\n",
    "while x < 8: \n",
    "    print ('Hello') #infinite loop "
   ]
  },
  {
   "cell_type": "code",
   "execution_count": null,
   "metadata": {},
   "outputs": [],
   "source": [
    "\n",
    "x = 5\n",
    "while x < 8: \n",
    "    print ('hello')\n",
    "    x = x + 1"
   ]
  },
  {
   "cell_type": "code",
   "execution_count": null,
   "metadata": {},
   "outputs": [],
   "source": [
    "s = input('Enter your year of birth: ')\n",
    "while s.isnumeric() == False:\n",
    "    print ('Only number is allowed')\n",
    "    s = input ('Enter your year of birth: ')\n",
    "    \n",
    "YOB = int(s) #convert from string to int \n",
    "age = 2020 - YOB \n",
    "print ('You are {} years old this year.'.format(age))"
   ]
  },
  {
   "cell_type": "code",
   "execution_count": null,
   "metadata": {},
   "outputs": [],
   "source": [
    "s = 'hello'\n",
    "#the for loop visists each character in s 1 by 1 \n",
    "for a in s: #for each character/item in s\n",
    "    print (a, \"x\")"
   ]
  },
  {
   "cell_type": "code",
   "execution_count": null,
   "metadata": {},
   "outputs": [],
   "source": [
    "for i in range (4): #0 to 3 \n",
    "    print (i + 2)"
   ]
  },
  {
   "cell_type": "code",
   "execution_count": null,
   "metadata": {},
   "outputs": [],
   "source": [
    "for i in range (2,7): #2 to 6 \n",
    "    print (i, end = \" \")\n",
    "print() #new line \n",
    "for i in range (7,2, -1): #7 to 3 backward \n",
    "    print(i, end =\" \")\n",
    "print() #new line \n",
    "for i in range(1,8,2): #1 to 7 ste 2 \n",
    "    print (i, end = \" \")"
   ]
  },
  {
   "cell_type": "code",
   "execution_count": null,
   "metadata": {},
   "outputs": [],
   "source": [
    "#practical task 2\n",
    "x = 1\n",
    "y = 5\n",
    "total = 0 \n",
    "for num in range (x, y + 1): \n",
    "    total = total + num \n",
    "print (total)"
   ]
  },
  {
   "cell_type": "code",
   "execution_count": 1,
   "metadata": {},
   "outputs": [
    {
     "name": "stdout",
     "output_type": "stream",
     "text": [
      "Enter X: a\n",
      "Enter Y: 1\n",
      "One or more of your inputs is not a number\n"
     ]
    }
   ],
   "source": [
    "#STUDY THIS - \n",
    "\n",
    "strX = input('Enter X: ')\n",
    "strY = input('Enter Y: ')\n",
    "\n",
    "if strX.isnumeric() and strY.isnumeric(): \n",
    "    x = int(strX)\n",
    "    y = int(strY)\n",
    "    if x > 0 and y > 0:\n",
    "        if y > x: \n",
    "            total = 0\n",
    "            for num in range (x, y + 1): \n",
    "                total = total + num\n",
    "            print(total)\n",
    "        else: \n",
    "            print('Y must be bigger than X')\n",
    "            \n",
    "    else: \n",
    "        print(\"One of more of your inputs is not a number\")\n",
    "else: \n",
    "    print('One or more of your inputs is not a number')"
   ]
  },
  {
   "cell_type": "code",
   "execution_count": null,
   "metadata": {},
   "outputs": [],
   "source": [
    "#List and slicing \n",
    "\n",
    "list1 = [2,3,4,5,6,6,9]\n",
    "print(list1[2])\n",
    "print(list1[2:4])\n",
    "print(list1[-2:])\n",
    "print(max(list1))\n",
    "print(min(list1))\n",
    "print(sum(list1))\n",
    "print(len(list1))\n",
    "for num in list1: \n",
    "    print(\"->\", num)"
   ]
  },
  {
   "cell_type": "code",
   "execution_count": 6,
   "metadata": {},
   "outputs": [
    {
     "name": "stdout",
     "output_type": "stream",
     "text": [
      "s1 is When Breath Becomes Air\n",
      "Length of When Breath Becomes Air is 23\n",
      "2nd and 3rd characters of When Breath Becomes Air is he\n",
      "\n",
      "s2 is The 91-Storey Treehouse\n",
      "Length of The 91-Storey Treehouse is 23\n",
      "5th and 7th characters of The 91-Storey Treehouse is 1-S\n",
      "\n",
      "s3 is Harry Potter and the Prisoner of Azkaban\n",
      "Length of Harry Potter and the Prisoner of Azkaban is 40\n",
      "Last two characters of Harry Potter and the Prisoner of Azkaban is an\n",
      "\n"
     ]
    }
   ],
   "source": [
    "#Submission Lab Text# \n",
    "s = 'When Breath Becomes Air,The 91-Storey Treehouse,Harry Potter and the Prisoner of Azkaban'\n",
    "(s1,s2,s3) = s.split(',')\n",
    "\n",
    "s1_len = len(s1)\n",
    "s2_len = len(s2)\n",
    "s3_len = len(s3)\n",
    "\n",
    "s1_char = s1[1:3]\n",
    "s2_char = s2[5:8]\n",
    "s3_char = s3[-2:]\n",
    "\n",
    "print('s1 is {}'.format(s1))\n",
    "print('Length of {} is {}'.format(s1, s1_len))\n",
    "print('2nd and 3rd characters of {} is {}\\n'.format(s1, s1_char))\n",
    "\n",
    "print('s2 is {}'.format(s2))\n",
    "print('Length of {} is {}'.format(s2, s2_len))\n",
    "print('5th and 7th characters of {} is {}\\n'.format(s2, s2_char))\n",
    "\n",
    "print('s3 is {}'.format(s3))\n",
    "print('Length of {} is {}'.format(s3, s3_len))\n",
    "print('Last two characters of {} is {}\\n'.format(s3, s3_char))"
   ]
  }
 ],
 "metadata": {
  "kernelspec": {
   "display_name": "Python 3",
   "language": "python",
   "name": "python3"
  },
  "language_info": {
   "codemirror_mode": {
    "name": "ipython",
    "version": 3
   },
   "file_extension": ".py",
   "mimetype": "text/x-python",
   "name": "python",
   "nbconvert_exporter": "python",
   "pygments_lexer": "ipython3",
   "version": "3.7.3"
  }
 },
 "nbformat": 4,
 "nbformat_minor": 2
}
