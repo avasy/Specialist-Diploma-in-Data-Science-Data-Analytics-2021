{
 "cells": [
  {
   "cell_type": "code",
   "execution_count": 1,
   "metadata": {},
   "outputs": [
    {
     "name": "stdout",
     "output_type": "stream",
     "text": [
      "[(2010, 'Punggol', '3-room', 150000, 237000)\n",
      " (2010, 'Punggol', '4-room', 243000, 376000)\n",
      " (2010, 'Punggol', '5-room', 330000, 458000)\n",
      " (2010, 'Jurong West', '3-room', 168000, 199000)\n",
      " (2010, 'Jurong West', '4-room', 239000, 325000)\n",
      " (2010, 'Jurong West', '5-room', 298000, 391000)\n",
      " (2010, 'Bukit Panjang', '2-room',  83000, 119000)\n",
      " (2010, 'Bukit Panjang', '3-room', 143000, 191000)\n",
      " (2010, 'Bukit Panjang', '4-room', 226000, 312000)\n",
      " (2010, 'Bukit Panjang', '5-room', 298000, 398000)\n",
      " (2010, 'Woodlands', '2-room',  78000, 105000)\n",
      " (2010, 'Woodlands', '3-room', 136000, 168000)\n",
      " (2010, 'Woodlands', '4-room', 224000, 280000)\n",
      " (2010, 'Woodlands', '5-room', 270000, 328000)\n",
      " (2010, 'Sengkang', '2-room',  68000, 120000)\n",
      " (2010, 'Sengkang', '3-room', 122000, 232000)\n",
      " (2010, 'Sengkang', '4-room', 201000, 359000)\n",
      " (2010, 'Sengkang', '5-room', 279000, 444000)\n",
      " (2011, 'Punggol', '2-room',  85000, 111000)\n",
      " (2011, 'Punggol', '3-room', 150000, 242000)\n",
      " (2011, 'Punggol', '4-room', 257000, 390000)\n",
      " (2011, 'Punggol', '5-room', 335000, 484000)\n",
      " (2011, 'Choa Chu Kang', '3-room', 146000, 172000)\n",
      " (2011, 'Choa Chu Kang', '4-room', 229000, 284000)\n",
      " (2011, 'Choa Chu Kang', '5-room', 295000, 364000)\n",
      " (2011, 'Bukit Panjang', '3-room', 137000, 189000)\n",
      " (2011, 'Bukit Panjang', '4-room', 217000, 298000)\n",
      " (2011, 'Bukit Panjang', '5-room', 274000, 386000)\n",
      " (2011, 'Sembawang', '2-room',  92000, 116000)\n",
      " (2011, 'Sembawang', '3-room', 158000, 191000)\n",
      " (2011, 'Sembawang', '4-room', 255000, 310000)\n",
      " (2011, 'Sengkang', '2-room',  83000, 112000)\n",
      " (2011, 'Sengkang', '3-room', 134000, 220000)\n",
      " (2011, 'Sengkang', '4-room', 225000, 370000)\n",
      " (2011, 'Sengkang', '5-room', 283000, 456000)\n",
      " (2011, 'Yishun', '3-room', 156000, 193000)\n",
      " (2011, 'Yishun', '4-room', 234000, 296000)\n",
      " (2011, 'Yishun', '5-room', 277000, 381000)\n",
      " (2012, 'Punggol', '2-room', 104000, 130000)\n",
      " (2012, 'Punggol', '3-room', 163000, 247000)\n",
      " (2012, 'Punggol', '4-room', 260000, 379000)\n",
      " (2012, 'Punggol', '5-room', 326000, 485000)\n",
      " (2012, 'Choa Chu Kang', '2-room',  99000, 121000)\n",
      " (2012, 'Choa Chu Kang', '3-room', 138000, 182000)\n",
      " (2012, 'Choa Chu Kang', '4-room', 223000, 309000)\n",
      " (2012, 'Choa Chu Kang', '5-room', 284000, 385000)\n",
      " (2012, 'Woodlands', '4-room', 248000, 312000)\n",
      " (2012, 'Woodlands', '5-room', 308000, 381000)\n",
      " (2012, 'Sengkang', '3-room', 151000, 264000)\n",
      " (2012, 'Sengkang', '4-room', 251000, 403000)\n",
      " (2012, 'Sengkang', '5-room', 304000, 499000)\n",
      " (2012, 'Yishun', '3-room', 170000, 197000)\n",
      " (2012, 'Yishun', '4-room', 264000, 320000)\n",
      " (2012, 'Yishun', '5-room', 331000, 388000)\n",
      " (2013, 'Punggol', '2-room',  81000, 141000)\n",
      " (2013, 'Punggol', '3-room', 176000, 232000)\n",
      " (2013, 'Punggol', '4-room', 279000, 377000)\n",
      " (2013, 'Punggol', '5-room', 365000, 495000)\n",
      " (2013, 'Choa Chu Kang', '3-room', 140000, 172000)\n",
      " (2013, 'Choa Chu Kang', '4-room', 240000, 288000)\n",
      " (2013, 'Choa Chu Kang', '5-room', 308000, 372000)\n",
      " (2013, 'Woodlands', '2-room',  73000, 118000)\n",
      " (2013, 'Woodlands', '3-room', 133000, 183000)\n",
      " (2013, 'Woodlands', '4-room', 223000, 298000)\n",
      " (2013, 'Woodlands', '5-room', 276000, 369000)\n",
      " (2013, 'Sembawang', '2-room',  70000, 109000)\n",
      " (2013, 'Sembawang', '3-room', 138000, 177000)\n",
      " (2013, 'Sembawang', '4-room', 225000, 304000)\n",
      " (2013, 'Sembawang', '5-room', 313000, 381000)\n",
      " (2013, 'Sengkang', '2-room',  76000, 124000)\n",
      " (2013, 'Sengkang', '3-room', 150000, 189000)\n",
      " (2013, 'Sengkang', '4-room', 251000, 329000)\n",
      " (2013, 'Sengkang', '5-room', 358000, 425000)\n",
      " (2013, 'Yishun', '2-room',  75000, 118000)\n",
      " (2013, 'Yishun', '3-room', 150000, 234000)\n",
      " (2013, 'Yishun', '4-room', 252000, 320000)\n",
      " (2013, 'Yishun', '5-room', 316000, 393000)\n",
      " (2014, 'Bukit Batok', '2-room',  80000, 142000)\n",
      " (2014, 'Bukit Batok', '3-room', 160000, 211000)\n",
      " (2014, 'Bukit Batok', '4-room', 259000, 344000)\n",
      " (2014, 'Bukit Batok', '5-room', 350000, 457000)\n",
      " (2014, 'Punggol', '2-room',  82000, 139000)\n",
      " (2014, 'Punggol', '3-room', 166000, 212000)\n",
      " (2014, 'Punggol', '4-room', 278000, 341000)\n",
      " (2014, 'Punggol', '5-room', 334000, 429000)\n",
      " (2014, 'Woodlands', '2-room',  72000, 131000)\n",
      " (2014, 'Woodlands', '3-room', 144000, 197000)\n",
      " (2014, 'Woodlands', '4-room', 229000, 312000)\n",
      " (2014, 'Woodlands', '5-room', 308000, 396000)\n",
      " (2014, 'Sembawang', '2-room',  73000, 119000)\n",
      " (2014, 'Sembawang', '3-room', 148000, 185000)\n",
      " (2014, 'Sembawang', '4-room', 236000, 301000)\n",
      " (2014, 'Sengkang', '2-room',  90000, 135000)\n",
      " (2014, 'Sengkang', '3-room', 164000, 208000)\n",
      " (2014, 'Sengkang', '4-room', 267000, 335000)\n",
      " (2014, 'Yishun', '2-room',  73000, 123000)\n",
      " (2014, 'Yishun', '3-room', 149000, 177000)\n",
      " (2014, 'Yishun', '4-room', 240000, 318000)\n",
      " (2014, 'Yishun', '5-room', 339000, 409000)\n",
      " (2015, 'Bukit Batok', '2-room',  84000, 134000)\n",
      " (2015, 'Bukit Batok', '3-room', 161000, 202000)\n",
      " (2015, 'Bukit Batok', '4-room', 266000, 325000)\n",
      " (2015, 'Bukit Batok', '5-room', 367000, 424000)\n",
      " (2015, 'Punggol', '2-room',  84000, 145000)\n",
      " (2015, 'Punggol', '3-room', 173000, 223000)\n",
      " (2015, 'Punggol', '4-room', 277000, 372000)\n",
      " (2015, 'Punggol', '5-room', 364000, 489000)\n",
      " (2015, 'Sembawang', '2-room',  75000, 123000)\n",
      " (2015, 'Sembawang', '3-room', 152000, 188000)\n",
      " (2015, 'Sembawang', '4-room', 238000, 302000)\n",
      " (2015, 'Sengkang', '2-room',  80000, 137000)\n",
      " (2015, 'Sengkang', '3-room', 159000, 202000)\n",
      " (2015, 'Sengkang', '4-room', 252000, 330000)\n",
      " (2015, 'Sengkang', '5-room', 320000, 402000)\n",
      " (2016, 'Bukit Panjang', '2-room',  73000, 139000)\n",
      " (2016, 'Bukit Panjang', '3-room', 147000, 210000)\n",
      " (2016, 'Bukit Panjang', '4-room', 239000, 336000)\n",
      " (2016, 'Bukit Panjang', '5-room', 315000, 410000)\n",
      " (2016, 'Punggol', '2-room',  80000, 140000)\n",
      " (2016, 'Punggol', '3-room', 163000, 210000)\n",
      " (2016, 'Punggol', '4-room', 257000, 365000)\n",
      " (2016, 'Punggol', '5-room', 329000, 498000)\n",
      " (2016, 'Sembawang', '2-room',  74000, 116000)\n",
      " (2016, 'Sembawang', '3-room', 151000, 181000)\n",
      " (2016, 'Sembawang', '4-room', 235000, 300000)\n",
      " (2016, 'Sembawang', '5-room', 311000, 392000)\n",
      " (2016, 'Yishun', '2-room',  79000, 123000)\n",
      " (2016, 'Yishun', '3-room', 156000, 190000)\n",
      " (2016, 'Yishun', '4-room', 251000, 297000)\n",
      " (2017, 'Bukit Batok', '2-room',  87000, 164000)\n",
      " (2017, 'Bukit Batok', '3-room', 171000, 246000)\n",
      " (2017, 'Bukit Batok', '4-room', 265000, 321000)\n",
      " (2017, 'Bukit Batok', '5-room', 353000, 418000)\n",
      " (2017, 'Choa Chu Kang', '2-room',  89000, 139000)\n",
      " (2017, 'Choa Chu Kang', '3-room', 182000, 211000)\n",
      " (2017, 'Choa Chu Kang', '4-room', 250000, 340000)\n",
      " (2017, 'Punggol', '4-room', 287000, 347000)\n",
      " (2017, 'Punggol', '5-room', 357000, 434000)\n",
      " (2017, 'Sengkang', '2-room',  78000, 139000)\n",
      " (2017, 'Sengkang', '3-room', 159000, 215000)\n",
      " (2017, 'Sengkang', '4-room', 252000, 331000)\n",
      " (2017, 'Sengkang', '5-room', 317000, 402000)\n",
      " (2017, 'Woodlands', '2-room',  71000, 129000)\n",
      " (2017, 'Woodlands', '3-room', 140000, 189000)\n",
      " (2017, 'Woodlands', '4-room', 225000, 318000)\n",
      " (2017, 'Woodlands', '5-room', 279000, 401000)\n",
      " (2017, 'Yishun', '2-room',  77000, 113000)\n",
      " (2017, 'Yishun', '3-room', 157000, 177000)\n",
      " (2017, 'Yishun', '4-room', 251000, 291000)\n",
      " (2017, 'Yishun', '5-room', 331000, 378000)\n",
      " (2018, 'Jurong West', '2-room',  95000, 160000)\n",
      " (2018, 'Jurong West', '3-room', 185000, 243000)\n",
      " (2018, 'Jurong West', '4-room', 257000, 364000)\n",
      " (2018, 'Jurong West', '5-room', 338000, 457000)\n",
      " (2018, 'Punggol', '2-room', 103000, 158000)\n",
      " (2018, 'Punggol', '3-room', 189000, 243000)\n",
      " (2018, 'Punggol', '4-room', 286000, 362000)\n",
      " (2018, 'Punggol', '5-room', 393000, 489000)\n",
      " (2018, 'Sembawang', '3-room', 165000, 204000)\n",
      " (2018, 'Sembawang', '4-room', 251000, 304000)\n",
      " (2018, 'Sembawang', '5-room', 327000, 391000)\n",
      " (2018, 'Sengkang', '2-room',  99000, 151000)\n",
      " (2018, 'Sengkang', '3-room', 187000, 242000)\n",
      " (2018, 'Sengkang', '4-room', 270000, 353000)\n",
      " (2018, 'Sengkang', '5-room', 362000, 438000)\n",
      " (2018, 'Tengah', '2-room', 101000, 150000)\n",
      " (2018, 'Tengah', '3-room', 193000, 243000)\n",
      " (2018, 'Tengah', '4-room', 290000, 355000)\n",
      " (2018, 'Tengah', '5-room', 397000, 480000)\n",
      " (2018, 'Yishun', '2-room',  75000, 132000)\n",
      " (2018, 'Yishun', '3-room', 170000, 216000)\n",
      " (2018, 'Yishun', '4-room', 248000, 317000)\n",
      " (2018, 'Yishun', '5-room', 334000, 405000)]\n"
     ]
    }
   ],
   "source": [
    "import numpy as np \n",
    "import pandas as pd\n",
    "import math\n",
    "import matplotlib.pyplot as plt\n",
    "\n",
    "#BTO Avg Prices on estate/room type \n",
    "bto_data = np.genfromtxt('price-range-of-hdb-flats-offered.csv', delimiter=\",\", skip_header=True,\n",
    "                      dtype = [('yr','i4'), ('town','U30'),('types','U20'),\n",
    "                               ('min_price','i4'),('max_price','i4')])\n",
    "#Remove rows with 0 values \n",
    "bto_data = bto_data[bto_data['min_price'] != 0]\n",
    "print(bto_data)"
   ]
  },
  {
   "cell_type": "code",
   "execution_count": 2,
   "metadata": {},
   "outputs": [
    {
     "data": {
      "text/plain": [
       "68000"
      ]
     },
     "execution_count": 2,
     "metadata": {},
     "output_type": "execute_result"
    }
   ],
   "source": [
    "#Check for 0 value \n",
    "bto_data['min_price'].min()"
   ]
  },
  {
   "cell_type": "code",
   "execution_count": 3,
   "metadata": {},
   "outputs": [
    {
     "name": "stdout",
     "output_type": "stream",
     "text": [
      "There are total number of 9 years captured from 2010 to 2018\n",
      "\n",
      "['Bukit batok' 'Bukit panjang' 'Choa chu kang' 'Jurong west' 'Punggol'\n",
      " 'Sembawang' 'Sengkang' 'Tengah' 'Woodlands' 'Yishun'] bto areas available for for sale in the past 9 years\n",
      "\n",
      "['2-room' '3-room' '4-room' '5-room'] are the type of flats available for for sale in the past 9 years\n",
      "\n",
      " The average min price to all BTO Flats in the past 9 is $206450.87 and the average max price of is $276549.13.\n"
     ]
    }
   ],
   "source": [
    "#Understanding your bto - dataset - Number of unique values\n",
    "no_of_years = len(np.unique(bto_data['yr']))\n",
    "years = np.unique(bto_data['yr'])    \n",
    "print(\"There are total number of {} years captured from {} to {}\".format(no_of_years, np.min(years), np.max(years)))\n",
    "\n",
    "town = np.unique(np.char.capitalize(bto_data['town']))\n",
    "print (\"\\n{} bto areas available for for sale in the past {} years\".format(town, no_of_years))\n",
    "\n",
    "types = np.unique(np.char.capitalize(bto_data['types']))\n",
    "print (\"\\n{} are the type of flats available for for sale in the past {} years\".format(types, no_of_years))\n",
    "\n",
    "\n",
    "avg_minprice = np.average(bto_data['min_price'])\n",
    "avg_maxprice = np.average(bto_data['max_price'])\n",
    "print (\"\\n The average min price to all BTO Flats in the past {} is ${:.2f} and the average max price of is ${:.2f}.\".format(no_of_years, avg_minprice, avg_maxprice))\n"
   ]
  },
  {
   "cell_type": "code",
   "execution_count": 4,
   "metadata": {
    "scrolled": true
   },
   "outputs": [
    {
     "name": "stderr",
     "output_type": "stream",
     "text": [
      "/Users/shuyi/anaconda3/lib/python3.7/site-packages/ipykernel_launcher.py:22: RuntimeWarning: Mean of empty slice.\n",
      "/Users/shuyi/anaconda3/lib/python3.7/site-packages/numpy/core/_methods.py:85: RuntimeWarning: invalid value encountered in double_scalars\n",
      "  ret = ret.dtype.type(ret / rcount)\n",
      "/Users/shuyi/anaconda3/lib/python3.7/site-packages/ipykernel_launcher.py:14: RuntimeWarning: Mean of empty slice.\n",
      "  \n",
      "/Users/shuyi/anaconda3/lib/python3.7/site-packages/ipykernel_launcher.py:18: RuntimeWarning: Mean of empty slice.\n"
     ]
    },
    {
     "data": {
      "image/png": "[encoded data removed]",
      "text/plain": [
       "<Figure size 432x288 with 1 Axes>"
      ]
     },
     "metadata": {
      "needs_background": "light"
     },
     "output_type": "display_data"
    }
   ],
   "source": [
    "bto_data = bto_data[bto_data['max_price'] != -1]\n",
    "bto_type = bto_data[(bto_data['types'] == '4-room')]\n",
    "bto_bp = bto_data[(bto_data['town'] == 'Bukit Panjang')]\n",
    "bto_pun = bto_data[(bto_data['town'] == 'Punggol')]\n",
    "bto_wood = bto_data[(bto_data['town'] == 'Woodlands')]\n",
    "\n",
    "\n",
    "years = np.arange(2010, 2020)  #2010 to 2019\n",
    "bto_avgbp, bto_avgpun, bto_avgwood = [], [], []\n",
    "\n",
    "for yr in years: #for 2010 to 2019\n",
    "    #tmp = bto_bp[np.char.find(bto_bp['yr'], str(yr))]\n",
    "    tmp = bto_bp[bto_bp['yr']== yr]\n",
    "    bto_avgPrice = tmp['max_price'].mean()\n",
    "    bto_avgbp.append(bto_avgPrice)\n",
    "    \n",
    "    tmp = bto_pun[bto_pun['yr']== yr]\n",
    "    bto_avgPrice = tmp['max_price'].mean()\n",
    "    bto_avgpun.append(bto_avgPrice)\n",
    "    \n",
    "    tmp = bto_wood[bto_wood['yr']== yr]\n",
    "    bto_avgPrice = tmp['max_price'].mean()\n",
    "    bto_avgwood.append(bto_avgPrice)\n",
    "\n",
    "    \n",
    "loc = np.arange(len(years))\n",
    "plt.xticks(loc, years, rotation=45)\n",
    "plt.plot(bto_avgbp,label=\"Bukit Panjang\")\n",
    "plt.plot(bto_avgpun, label=\"Punggol\")\n",
    "plt.plot(bto_avgwood, label=\"Woodlands\")\n",
    "plt.legend()\n",
    "plt.show()"
   ]
  },
  {
   "cell_type": "code",
   "execution_count": 5,
   "metadata": {
    "scrolled": false
   },
   "outputs": [
    {
     "ename": "TypeError",
     "evalue": "string operation on non-string array",
     "output_type": "error",
     "traceback": [
      "\u001b[0;31m---------------------------------------------------------------------------\u001b[0m",
      "\u001b[0;31mTypeError\u001b[0m                                 Traceback (most recent call last)",
      "\u001b[0;32m<ipython-input-5-421b12306066>\u001b[0m in \u001b[0;36m<module>\u001b[0;34m\u001b[0m\n\u001b[1;32m     10\u001b[0m \u001b[0;34m\u001b[0m\u001b[0m\n\u001b[1;32m     11\u001b[0m \u001b[0;32mfor\u001b[0m \u001b[0myr\u001b[0m \u001b[0;32min\u001b[0m \u001b[0myears\u001b[0m\u001b[0;34m:\u001b[0m \u001b[0;31m#for 2010 to 2019\u001b[0m\u001b[0;34m\u001b[0m\u001b[0;34m\u001b[0m\u001b[0m\n\u001b[0;32m---> 12\u001b[0;31m     \u001b[0mtmp\u001b[0m \u001b[0;34m=\u001b[0m \u001b[0mbto_bp\u001b[0m\u001b[0;34m[\u001b[0m\u001b[0mnp\u001b[0m\u001b[0;34m.\u001b[0m\u001b[0mchar\u001b[0m\u001b[0;34m.\u001b[0m\u001b[0mfind\u001b[0m\u001b[0;34m(\u001b[0m\u001b[0mbto_bp\u001b[0m\u001b[0;34m[\u001b[0m\u001b[0;34m'yr'\u001b[0m\u001b[0;34m]\u001b[0m\u001b[0;34m,\u001b[0m \u001b[0mstr\u001b[0m\u001b[0;34m(\u001b[0m\u001b[0myr\u001b[0m\u001b[0;34m)\u001b[0m\u001b[0;34m)\u001b[0m\u001b[0;34m]\u001b[0m\u001b[0;34m\u001b[0m\u001b[0;34m\u001b[0m\u001b[0m\n\u001b[0m\u001b[1;32m     13\u001b[0m     \u001b[0mbto_avgPrice\u001b[0m \u001b[0;34m=\u001b[0m \u001b[0mtmp\u001b[0m\u001b[0;34m[\u001b[0m\u001b[0;34m'max_price'\u001b[0m\u001b[0;34m]\u001b[0m\u001b[0;34m.\u001b[0m\u001b[0mmean\u001b[0m\u001b[0;34m(\u001b[0m\u001b[0;34m)\u001b[0m\u001b[0;34m\u001b[0m\u001b[0;34m\u001b[0m\u001b[0m\n\u001b[1;32m     14\u001b[0m     \u001b[0mbto_avgbp\u001b[0m\u001b[0;34m.\u001b[0m\u001b[0mappend\u001b[0m\u001b[0;34m(\u001b[0m\u001b[0mbto_avgPrice\u001b[0m\u001b[0;34m)\u001b[0m\u001b[0;34m\u001b[0m\u001b[0;34m\u001b[0m\u001b[0m\n",
      "\u001b[0;32m~/anaconda3/lib/python3.7/site-packages/numpy/core/defchararray.py\u001b[0m in \u001b[0;36mfind\u001b[0;34m(a, sub, start, end)\u001b[0m\n\u001b[1;32m    723\u001b[0m     \"\"\"\n\u001b[1;32m    724\u001b[0m     return _vec_string(\n\u001b[0;32m--> 725\u001b[0;31m         a, integer, 'find', [sub, start] + _clean_args(end))\n\u001b[0m\u001b[1;32m    726\u001b[0m \u001b[0;34m\u001b[0m\u001b[0m\n\u001b[1;32m    727\u001b[0m \u001b[0;34m\u001b[0m\u001b[0m\n",
      "\u001b[0;31mTypeError\u001b[0m: string operation on non-string array"
     ]
    }
   ],
   "source": [
    "bto_data = bto_data[bto_data['min_price'] != -1]\n",
    "bto_type = bto_data[(bto_data['types'] == '4-room')]\n",
    "bto_bp = bto_data[(bto_data['town'] == 'Bukit Panjang')]\n",
    "bto_pun = bto_data[(bto_data['town'] == 'Punggol')]\n",
    "bto_wood = bto_data[(bto_data['town'] == 'Woodlands')]\n",
    "\n",
    "\n",
    "years = np.arange(2010, 2020)  #2010 to 2019\n",
    "bto_avgbp, bto_avgpun, bto_avgwood = [], [], []\n",
    "\n",
    "for yr in years: #for 2010 to 2019\n",
    "    tmp = bto_bp[np.char.find(bto_bp['yr'], str(yr))]\n",
    "    bto_avgPrice = tmp['max_price'].mean()\n",
    "    bto_avgbp.append(bto_avgPrice)\n",
    "    \n",
    "    tmp = bto_pun[np.char.find(bto_pun['yr'], str(yr))]\n",
    "    bto_avgPrice = tmp['max_price'].mean()\n",
    "    bto_avgpun.append(bto_avgPrice)\n",
    "    \n",
    "    tmp = bto_wood[np.char.find(bto_wood['yr'], str(yr))]\n",
    "    bto_avgPrice = tmp['max_price'].mean()\n",
    "    bto_avgwood.append(bto_avgPrice)\n",
    "    \n",
    "w = 0.3\n",
    "loc1 = np.arange(len(years))\n",
    "loc2 = loc1+w\n",
    "loc3 = loc2+w\n",
    "plt.figure(figsize=(19,9))\n",
    "plt.xticks(loc1 + w/2, years, rotation=45)\n",
    "plt.bar(loc1,bto_avgbp,width=w,label=\"Bukit Panjang\")\n",
    "plt.bar(loc2,bto_avgpun, width=w,label=\"Punggol\")\n",
    "plt.bar(loc3,bto_avgwood, width=w,label=\"Woodlands\")\n",
    "fig.tight_layout()\n",
    "plt.legend()\n"
   ]
  },
  {
   "cell_type": "code",
   "execution_count": 6,
   "metadata": {
    "scrolled": true
   },
   "outputs": [
    {
     "name": "stdout",
     "output_type": "stream",
     "text": [
      "[('2010-Q1', 'Ang Mo Kio', '1-room',     -1)\n",
      " ('2010-Q1', 'Ang Mo Kio', '2-room',     -1)\n",
      " ('2010-Q1', 'Ang Mo Kio', '3-room', 278000) ...\n",
      " ('2020-Q2', 'YISHUN', '4-ROOM', 379000)\n",
      " ('2020-Q2', 'YISHUN', '5-ROOM', 485000)\n",
      " ('2020-Q2', 'YISHUN', 'EXEC',     -1)]\n"
     ]
    }
   ],
   "source": [
    "resale = \"median-resale-prices-for-registered-applications-by-town-and-flat-type.csv\"\n",
    "\n",
    "resale_data = np.genfromtxt(resale, delimiter=',', skip_header=True,\n",
    "                  dtype=[('qtr', 'U10'),('town', 'U30'),('types','U20'),('price','i4')])\n",
    "print(resale_data)"
   ]
  },
  {
   "cell_type": "code",
   "execution_count": 7,
   "metadata": {},
   "outputs": [
    {
     "name": "stdout",
     "output_type": "stream",
     "text": [
      "There are total number of 10.5 years of data\n",
      "\n",
      "['Ang mo kio' 'Bedok' 'Bishan' 'Bukit batok' 'Bukit merah' 'Bukit panjang'\n",
      " 'Bukit timah' 'Central' 'Central area' 'Choa chu kang' 'Clementi'\n",
      " 'Geylang' 'Hougang' 'Jurong east' 'Jurong west' 'Kallang/whampoa'\n",
      " 'Marine parade' 'Pasir ris' 'Punggol' 'Queenstown' 'Sembawang' 'Sengkang'\n",
      " 'Serangoon' 'Tampines' 'Toa payoh' 'Woodlands' 'Yishun'] town areas available for for sale in the past 10.5 years\n",
      "\n",
      "['1-room' '2-room' '3-room' '4-room' '5-room' 'Exec' 'Executive'] are the type of flats available for for sale in the past 10.5 years\n"
     ]
    }
   ],
   "source": [
    "#Understanding your resale - dataset - Number of unique values\n",
    "no_of_years = (len(np.unique(resale_data['qtr'])))/4\n",
    "years = np.unique(resale_data['qtr'])    \n",
    "print(\"There are total number of {} years of data\".format(no_of_years))\n",
    "\n",
    "town = np.unique(np.char.capitalize(resale_data['town']))\n",
    "print (\"\\n{} town areas available for for sale in the past {} years\".format(town, no_of_years))\n",
    "\n",
    "types = np.unique(np.char.capitalize(resale_data['types']))\n",
    "print (\"\\n{} are the type of flats available for for sale in the past {} years\".format(types, no_of_years))\n"
   ]
  },
  {
   "cell_type": "code",
   "execution_count": 8,
   "metadata": {},
   "outputs": [
    {
     "data": {
      "image/png": "[encoded data removed]",
      "text/plain": [
       "<Figure size 432x288 with 1 Axes>"
      ]
     },
     "metadata": {
      "needs_background": "light"
     },
     "output_type": "display_data"
    }
   ],
   "source": [
    "resale_data = resale_data[resale_data['price'] != -1] #remove rows with missing prices\n",
    "resale_data = resale_data[(resale_data['types'] == '4-room')]\n",
    "resale_bp = resale_data[(resale_data['town'] == 'Bukit Panjang')]\n",
    "resale_pun = resale_data[(resale_data['town'] == 'Punggol')]\n",
    "resale_wood = resale_data[(resale_data['town'] == 'Woodlands')]\n",
    "\n",
    "years = np.arange(2010, 2020)  #2010 to 2019\n",
    "resale_avgbp, resale_avgpun, resale_avgwood = [], [], []\n",
    "for yr in years: #for 2010 to 2019\n",
    "    tmp = resale_bp[np.char.find(resale_bp['qtr'], str(yr)) > -1]\n",
    "    resale_avgPrice = tmp['price'].mean()\n",
    "    resale_avgbp.append(resale_avgPrice)\n",
    "    \n",
    "    tmp = resale_pun[np.char.find(resale_pun['qtr'], str(yr)) > -1]\n",
    "    resale_avgPrice = tmp['price'].mean()\n",
    "    resale_avgpun.append(resale_avgPrice)\n",
    "    \n",
    "    tmp = resale_wood[np.char.find(resale_wood['qtr'], str(yr)) > -1]\n",
    "    resale_avgPrice = tmp['price'].mean()\n",
    "    resale_avgwood.append(resale_avgPrice)\n",
    "    \n",
    "loc = np.arange(len(years))\n",
    "plt.xticks(loc, years, rotation=45)\n",
    "plt.plot(resale_avgbp,label=\"Bukit Panjang\")\n",
    "plt.plot(resale_avgpun, label=\"Punggol\")\n",
    "plt.plot(resale_avgwood, label=\"Woodlands\")\n",
    "plt.legend()\n",
    "plt.show()"
   ]
  },
  {
   "cell_type": "code",
   "execution_count": 9,
   "metadata": {},
   "outputs": [
    {
     "ename": "NameError",
     "evalue": "name 'fig' is not defined",
     "output_type": "error",
     "traceback": [
      "\u001b[0;31m---------------------------------------------------------------------------\u001b[0m",
      "\u001b[0;31mNameError\u001b[0m                                 Traceback (most recent call last)",
      "\u001b[0;32m<ipython-input-9-0b707d5db356>\u001b[0m in \u001b[0;36m<module>\u001b[0;34m\u001b[0m\n\u001b[1;32m     29\u001b[0m \u001b[0mplt\u001b[0m\u001b[0;34m.\u001b[0m\u001b[0mbar\u001b[0m\u001b[0;34m(\u001b[0m\u001b[0mloc2\u001b[0m\u001b[0;34m,\u001b[0m\u001b[0mresale_avgpun\u001b[0m\u001b[0;34m,\u001b[0m \u001b[0mwidth\u001b[0m\u001b[0;34m=\u001b[0m\u001b[0mw\u001b[0m\u001b[0;34m,\u001b[0m\u001b[0mlabel\u001b[0m\u001b[0;34m=\u001b[0m\u001b[0;34m\"Punggol\"\u001b[0m\u001b[0;34m)\u001b[0m\u001b[0;34m\u001b[0m\u001b[0;34m\u001b[0m\u001b[0m\n\u001b[1;32m     30\u001b[0m \u001b[0mplt\u001b[0m\u001b[0;34m.\u001b[0m\u001b[0mbar\u001b[0m\u001b[0;34m(\u001b[0m\u001b[0mloc3\u001b[0m\u001b[0;34m,\u001b[0m\u001b[0mresale_avgwood\u001b[0m\u001b[0;34m,\u001b[0m \u001b[0mwidth\u001b[0m\u001b[0;34m=\u001b[0m\u001b[0mw\u001b[0m\u001b[0;34m,\u001b[0m\u001b[0mlabel\u001b[0m\u001b[0;34m=\u001b[0m\u001b[0;34m\"Woodlands\"\u001b[0m\u001b[0;34m)\u001b[0m\u001b[0;34m\u001b[0m\u001b[0;34m\u001b[0m\u001b[0m\n\u001b[0;32m---> 31\u001b[0;31m \u001b[0mfig\u001b[0m\u001b[0;34m.\u001b[0m\u001b[0mtight_layout\u001b[0m\u001b[0;34m(\u001b[0m\u001b[0;34m)\u001b[0m\u001b[0;34m\u001b[0m\u001b[0;34m\u001b[0m\u001b[0m\n\u001b[0m\u001b[1;32m     32\u001b[0m \u001b[0mplt\u001b[0m\u001b[0;34m.\u001b[0m\u001b[0mlegend\u001b[0m\u001b[0;34m(\u001b[0m\u001b[0;34m)\u001b[0m\u001b[0;34m\u001b[0m\u001b[0;34m\u001b[0m\u001b[0m\n",
      "\u001b[0;31mNameError\u001b[0m: name 'fig' is not defined"
     ]
    },
    {
     "data": {
      "image/png": "[encoded data removed]",
      "text/plain": [
       "<Figure size 1368x648 with 1 Axes>"
      ]
     },
     "metadata": {
      "needs_background": "light"
     },
     "output_type": "display_data"
    }
   ],
   "source": [
    "resale_data = resale_data[resale_data['price'] != -1] #remove rows with missing prices\n",
    "resale_type = resale_data[(resale_data['types'] == '4-room')] \n",
    "resale_bp = resale_data[(resale_data['town'] == 'Bukit Panjang')]\n",
    "resale_pun = resale_data[(resale_data['town'] == 'Punggol')]\n",
    "resale_wood = resale_data[(resale_data['town'] == 'Woodlands')]\n",
    "\n",
    "years = np.arange(2010, 2020)  #2010 to 2019\n",
    "resale_avgbp, resale_avgpun, resale_avgwood = [], [], []\n",
    "for yr in years: #for 2010 to 2019\n",
    "    tmp = resale_bp[np.char.find(resale_bp['qtr'], str(yr)) > -1]\n",
    "    resale_avgPrice = tmp['price'].mean()\n",
    "    resale_avgbp.append(resale_avgPrice)\n",
    "    \n",
    "    tmp = resale_pun[np.char.find(resale_pun['qtr'], str(yr)) > -1]\n",
    "    resale_avgPrice = tmp['price'].mean()\n",
    "    resale_avgpun.append(resale_avgPrice)\n",
    "    \n",
    "    tmp = resale_wood[np.char.find(resale_wood['qtr'], str(yr)) > -1]\n",
    "    resale_avgPrice = tmp['price'].mean()\n",
    "    resale_avgwood.append(resale_avgPrice)\n",
    "    \n",
    "w = 0.3\n",
    "loc1 = np.arange(len(years))\n",
    "loc2 = loc1+w\n",
    "loc3 = loc2+w\n",
    "plt.figure(figsize=(19,9))\n",
    "plt.xticks(loc1 + w/2, years, rotation=45)\n",
    "plt.bar(loc1,resale_avgbp,width=w,label=\"Bukit Panjang\")\n",
    "plt.bar(loc2,resale_avgpun, width=w,label=\"Punggol\")\n",
    "plt.bar(loc3,resale_avgwood, width=w,label=\"Woodlands\")\n",
    "fig.tight_layout()\n",
    "plt.legend()\n"
   ]
  },
  {
   "cell_type": "code",
   "execution_count": 10,
   "metadata": {},
   "outputs": [
    {
     "ename": "TypeError",
     "evalue": "string operation on non-string array",
     "output_type": "error",
     "traceback": [
      "\u001b[0;31m---------------------------------------------------------------------------\u001b[0m",
      "\u001b[0;31mTypeError\u001b[0m                                 Traceback (most recent call last)",
      "\u001b[0;32m<ipython-input-10-40ef240022ff>\u001b[0m in \u001b[0;36m<module>\u001b[0;34m\u001b[0m\n\u001b[1;32m     12\u001b[0m \u001b[0;34m\u001b[0m\u001b[0m\n\u001b[1;32m     13\u001b[0m \u001b[0;32mfor\u001b[0m \u001b[0myr\u001b[0m \u001b[0;32min\u001b[0m \u001b[0myears\u001b[0m\u001b[0;34m:\u001b[0m \u001b[0;31m#for 2010 to 2019\u001b[0m\u001b[0;34m\u001b[0m\u001b[0;34m\u001b[0m\u001b[0m\n\u001b[0;32m---> 14\u001b[0;31m     \u001b[0mtmp\u001b[0m \u001b[0;34m=\u001b[0m \u001b[0mbto_bp\u001b[0m\u001b[0;34m[\u001b[0m\u001b[0mnp\u001b[0m\u001b[0;34m.\u001b[0m\u001b[0mchar\u001b[0m\u001b[0;34m.\u001b[0m\u001b[0mfind\u001b[0m\u001b[0;34m(\u001b[0m\u001b[0mbto_bp\u001b[0m\u001b[0;34m[\u001b[0m\u001b[0;34m'yr'\u001b[0m\u001b[0;34m]\u001b[0m\u001b[0;34m,\u001b[0m \u001b[0mstr\u001b[0m\u001b[0;34m(\u001b[0m\u001b[0myr\u001b[0m\u001b[0;34m)\u001b[0m\u001b[0;34m)\u001b[0m\u001b[0;34m]\u001b[0m\u001b[0;34m\u001b[0m\u001b[0;34m\u001b[0m\u001b[0m\n\u001b[0m\u001b[1;32m     15\u001b[0m     \u001b[0mbto_avgPrice\u001b[0m \u001b[0;34m=\u001b[0m \u001b[0mtmp\u001b[0m\u001b[0;34m[\u001b[0m\u001b[0;34m'max_price'\u001b[0m\u001b[0;34m]\u001b[0m\u001b[0;34m.\u001b[0m\u001b[0mmean\u001b[0m\u001b[0;34m(\u001b[0m\u001b[0;34m)\u001b[0m\u001b[0;34m\u001b[0m\u001b[0;34m\u001b[0m\u001b[0m\n\u001b[1;32m     16\u001b[0m     \u001b[0mbto_avgbp\u001b[0m\u001b[0;34m.\u001b[0m\u001b[0mappend\u001b[0m\u001b[0;34m(\u001b[0m\u001b[0mbto_avgPrice\u001b[0m\u001b[0;34m)\u001b[0m\u001b[0;34m\u001b[0m\u001b[0;34m\u001b[0m\u001b[0m\n",
      "\u001b[0;32m~/anaconda3/lib/python3.7/site-packages/numpy/core/defchararray.py\u001b[0m in \u001b[0;36mfind\u001b[0;34m(a, sub, start, end)\u001b[0m\n\u001b[1;32m    723\u001b[0m     \"\"\"\n\u001b[1;32m    724\u001b[0m     return _vec_string(\n\u001b[0;32m--> 725\u001b[0;31m         a, integer, 'find', [sub, start] + _clean_args(end))\n\u001b[0m\u001b[1;32m    726\u001b[0m \u001b[0;34m\u001b[0m\u001b[0m\n\u001b[1;32m    727\u001b[0m \u001b[0;34m\u001b[0m\u001b[0m\n",
      "\u001b[0;31mTypeError\u001b[0m: string operation on non-string array"
     ]
    }
   ],
   "source": [
    "#Comparision of Resale vs BTO \n",
    "\n",
    "bto_data = bto_data[bto_data['min_price'] != -1]\n",
    "bto_type = bto_data[(bto_data['types'] == '4-room')]\n",
    "bto_bp = bto_data[(bto_data['town'] == 'Bukit Panjang')]\n",
    "bto_pun = bto_data[(bto_data['town'] == 'Punggol')]\n",
    "bto_wood = bto_data[(bto_data['town'] == 'Woodlands')]\n",
    "\n",
    "\n",
    "years = np.arange(2010, 2020)  #2010 to 2019\n",
    "bto_avgbp, bto_avgpun, bto_avgwood = [], [], []\n",
    "\n",
    "for yr in years: #for 2010 to 2019\n",
    "    tmp = bto_bp[np.char.find(bto_bp['yr'], str(yr))]\n",
    "    bto_avgPrice = tmp['max_price'].mean()\n",
    "    bto_avgbp.append(bto_avgPrice)\n",
    "    \n",
    "    tmp = bto_pun[np.char.find(bto_pun['yr'], str(yr))]\n",
    "    bto_avgPrice = tmp['max_price'].mean()\n",
    "    bto_avgpun.append(bto_avgPrice)\n",
    "    \n",
    "    tmp = bto_wood[np.char.find(bto_wood['yr'], str(yr))]\n",
    "    bto_avgPrice = tmp['max_price'].mean()\n",
    "    bto_avgwood.append(bto_avgPrice)\n",
    "\n",
    "\n",
    "\n",
    "resale_data = resale_data[resale_data['price'] != -1] #remove rows with missing prices\n",
    "resale_type = resale_data[(resale_data['types'] == '4-room')] \n",
    "resale_bp = resale_data[(resale_data['town'] == 'Bukit Panjang')]\n",
    "resale_pun = resale_data[(resale_data['town'] == 'Punggol')]\n",
    "resale_wood = resale_data[(resale_data['town'] == 'Woodlands')]\n",
    "\n",
    "years = np.arange(2010, 2020)  #2010 to 2019\n",
    "resale_avgbp, resale_avgpun, resale_avgwood = [], [], []\n",
    "for yr in years: #for 2010 to 2019\n",
    "    tmp = resale_bp[np.char.find(resale_bp['qtr'], str(yr)) > -1]\n",
    "    resale_avgPrice = tmp['price'].mean()\n",
    "    resale_avgbp.append(resale_avgPrice)\n",
    "    \n",
    "    tmp = resale_pun[np.char.find(resale_pun['qtr'], str(yr)) > -1]\n",
    "    resale_avgPrice = tmp['price'].mean()\n",
    "    resale_avgpun.append(resale_avgPrice)\n",
    "    \n",
    "    tmp = resale_wood[np.char.find(resale_wood['qtr'], str(yr)) > -1]\n",
    "    resale_avgPrice = tmp['price'].mean()\n",
    "    resale_avgwood.append(resale_avgPrice)\n",
    "    \n",
    "\n",
    "\n",
    "loc = np.arange(len(years))\n",
    "plt.figure(figsize=(19,9))\n",
    "plt.xticks(loc, years, rotation=45)\n",
    "plt.plot(resale_avgbp,label=\"Bukit Panjang_resale\")\n",
    "plt.plot(bto_avgbp,label=\"Bukit Panjang_bto\")\n",
    "plt.plot(resale_avgpun, label=\"Punggol_reslae\")\n",
    "plt.plot(bto_avgpun, label=\"Punggol_bto\")\n",
    "plt.plot(resale_avgwood, label=\"Woodlands_resale\")\n",
    "plt.plot(bto_avgwood, label=\"Woodlands_bto\")\n",
    "plt.legend()\n",
    "plt.show()"
   ]
  },
  {
   "cell_type": "code",
   "execution_count": 11,
   "metadata": {
    "scrolled": true
   },
   "outputs": [
    {
     "name": "stdout",
     "output_type": "stream",
     "text": [
      "[('2017-01', 'ANG MO KIO', '2 ROOM', 406, 'ANG MO KIO AVE 10', '10 TO 12',  44, 'Improved', 1979, '61 years 04 months', 232000)\n",
      " ('2017-01', 'ANG MO KIO', '3 ROOM', 108, 'ANG MO KIO AVE 4', '01 TO 03',  67, 'New Generation', 1978, '60 years 07 months', 250000)\n",
      " ('2017-01', 'ANG MO KIO', '3 ROOM', 602, 'ANG MO KIO AVE 5', '01 TO 03',  67, 'New Generation', 1980, '62 years 05 months', 262000)\n",
      " ...\n",
      " ('2020-11', 'YISHUN', 'EXECUTIVE', 877, 'YISHUN ST 81', '01 TO 03', 145, 'Maisonette', 1987, '66 years 01 month', 645000)\n",
      " ('2020-11', 'YISHUN', 'EXECUTIVE', 828, 'YISHUN ST 81', '07 TO 09', 145, 'Apartment', 1988, '66 years 03 months', 660000)\n",
      " ('2020-11', 'YISHUN', 'MULTI-GENERATION', 632, 'YISHUN ST 61', '07 TO 09', 159, 'Multi Generation', 1987, '66 years', 730000)]\n"
     ]
    }
   ],
   "source": [
    "past3years_data= np.genfromtxt('resale-flat-prices-based-on-registration-date-from-jan-2017-onwards.csv', delimiter=\",\", skip_header=True,\n",
    "                      dtype = [('month','U10'), ('town','U30'),('types','U20'), ('block','i4'),('street_name','U20'),('storey_range','U10')\n",
    "                              ,('floor_area_sqm','i4'),('flat_model','U30'),('lease_commence_date','i4'),('remaining_lease','U40'),('resale_price','i4')])\n",
    "\n",
    "print(past3years_data)"
   ]
  },
  {
   "cell_type": "code",
   "execution_count": 12,
   "metadata": {
    "scrolled": true
   },
   "outputs": [
    {
     "name": "stdout",
     "output_type": "stream",
     "text": [
      "There are total number of 3.9 years captured.\n",
      "\n",
      "['Ang mo kio' 'Bedok' 'Bishan' 'Bukit batok' 'Bukit merah' 'Bukit panjang'\n",
      " 'Bukit timah' 'Central area' 'Choa chu kang' 'Clementi' 'Geylang'\n",
      " 'Hougang' 'Jurong east' 'Jurong west' 'Kallang/whampoa' 'Marine parade'\n",
      " 'Pasir ris' 'Punggol' 'Queenstown' 'Sembawang' 'Sengkang' 'Serangoon'\n",
      " 'Tampines' 'Toa payoh' 'Woodlands' 'Yishun'] bto areas available for for sale in the past 3.9 years\n",
      "\n",
      "['1 room' '2 room' '3 room' '4 room' '5 room' 'Executive'\n",
      " 'Multi-generation'] are the type of flats available for for sale in the past 3.9 years\n",
      "\n",
      " The average resale price for all resale-flats in the past 3.9 is $441340.36.\n"
     ]
    }
   ],
   "source": [
    "no_of_years = (len(np.unique(past3years_data['month'])))/12\n",
    "years = np.unique((past3years_data['month'][::5]))\n",
    "print(\"There are total number of {:.2} years captured.\".format(no_of_years))\n",
    "\n",
    "town = np.unique(np.char.capitalize(past3years_data['town']))\n",
    "print (\"\\n{} bto areas available for for sale in the past {:.2} years\".format(town, no_of_years))\n",
    "\n",
    "types = np.unique(np.char.capitalize(past3years_data['types']))\n",
    "print (\"\\n{} are the type of flats available for for sale in the past {:.2} years\".format(types, no_of_years))\n",
    "\n",
    "\n",
    "avg_price = np.average(past3years_data['resale_price'])\n",
    "print (\"\\n The average resale price for all resale-flats in the past {:.2} is ${:.2f}.\".format(no_of_years, avg_price))\n",
    "\n"
   ]
  },
  {
   "cell_type": "code",
   "execution_count": 13,
   "metadata": {},
   "outputs": [
    {
     "data": {
      "image/png": "[encoded data removed]",
      "text/plain": [
       "<Figure size 1440x720 with 1 Axes>"
      ]
     },
     "metadata": {},
     "output_type": "display_data"
    }
   ],
   "source": [
    "#Determine the type of the re-sale flats that was resgistered to be on sale in the past 3 years\n",
    "\n",
    "a = np.array(np.char.capitalize(past3years_data['types']))\n",
    "unique_elements, counts_elements = np.unique(a, return_counts=True)\n",
    "\n",
    "\n",
    "labels = ['1 room','2 room','3 room' , '4 room', '5 room', 'Executive', 'Multi-generation'] \n",
    "sizes = (39, 1309, 20437, 35264, 21205, 6834, 41)\n",
    "\n",
    "fig1, ax1 = plt.subplots(figsize=(20,10))\n",
    "ax1.pie(sizes, labels=labels, autopct='%1.1f%%', startangle=90) \n",
    "plt.show()\n"
   ]
  },
  {
   "cell_type": "code",
   "execution_count": null,
   "metadata": {},
   "outputs": [],
   "source": [
    "#Avg Resale_price registerd for the past 3 years \n",
    "\n",
    "#for i in past3years_data['town']:\n",
    "    #tmp = past3years_data[np.char.find(past3years_data['town']]\n",
    "    #past3years_data = tmp['price'].sum()\n",
    "    #bto_avgbp.append(bto_avgPrice)\n",
    "                                       \n",
    "\n",
    "                                       \n",
    "for i in past3years_data['month']:\n",
    "    month_breakdown =np.char.split(past3years_data['month'],\"-\")"
   ]
  },
  {
   "cell_type": "code",
   "execution_count": null,
   "metadata": {},
   "outputs": [],
   "source": [
    "labels = ['Ang mo kio' 'Bedok' 'Bishan' 'Bukit batok' 'Bukit merah' 'Bukit panjang'\n",
    " 'Bukit timah' 'Central area' 'Choa chu kang' 'Clementi' 'Geylang'\n",
    " 'Hougang' 'Jurong east' 'Jurong west' 'Kallang/whampoa' 'Marine parade'\n",
    " 'Pasir ris' 'Punggol' 'Queenstown' 'Sembawang' 'Sengkang' 'Serangoon'\n",
    " 'Tampines' 'Toa payoh' 'Woodlands' 'Yishun']  \n",
    "sizes = (3814, 4612, 1645, 3074, 3285, 3411, 230, 704, 3503, 1923, 2052, 4100, 1891, 6265, 2409, 501, 2604, 5546, 2285, 2177, 6879, 1699, 5587, 2774, 6255, 5904)\n",
    "\n",
    "\n",
    "#Determine the town of the re-sale flats that was resgistered to be on sale in the past 3 years\n",
    "\n",
    "b = np.array(np.char.capitalize(past3years_data['town']))\n",
    "unique_elements, counts_elements = np.unique(b, return_counts=True)\n",
    "\n",
    "fig, ax = plt.subplots()\n",
    "\n",
    "ax.barh(unique_elements, counts_elements)\n",
    "ax.set_yticks(unique_elements)\n",
    "ax.set_yticklabels(unique_elements)\n",
    "\n",
    "ax.invert_yaxis()  # labels read top-to-bottom\n",
    "ax.set_xlabel('Total flats registerd for sales in the past 3 years')\n",
    "fig.tight_layout()\n",
    "plt.show()"
   ]
  },
  {
   "cell_type": "code",
   "execution_count": null,
   "metadata": {},
   "outputs": [],
   "source": [
    "floor_sqm = past3years_data['floor_area_sqm']\n",
    "past3_resale_price = past3years_data['resale_price']\n",
    "\n",
    "x = past3years_data['floor_area_sqm']\n",
    "y = past3years_data['resale_price']\n",
    "plt.xlabel(\"Floor Area\")\n",
    "plt.ylabel(\"Resale Price\")\n",
    "colors = np.random.randint(1,100,len(x))\n",
    "sizes = 10* np.random.randint(1,100,len(x))\n",
    "plt.scatter(x, y, alpha=0.2)\n",
    "colors = np.random.rand(N)\n",
    "plt.colorbar()\n"
   ]
  },
  {
   "cell_type": "code",
   "execution_count": null,
   "metadata": {},
   "outputs": [],
   "source": []
  }
 ],
 "metadata": {
  "kernelspec": {
   "display_name": "Python 3",
   "language": "python",
   "name": "python3"
  },
  "language_info": {
   "codemirror_mode": {
    "name": "ipython",
    "version": 3
   },
   "file_extension": ".py",
   "mimetype": "text/x-python",
   "name": "python",
   "nbconvert_exporter": "python",
   "pygments_lexer": "ipython3",
   "version": "3.7.3"
  }
 },
 "nbformat": 4,
 "nbformat_minor": 2
}
